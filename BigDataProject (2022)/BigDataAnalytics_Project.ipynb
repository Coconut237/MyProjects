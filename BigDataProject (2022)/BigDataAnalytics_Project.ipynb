{
 "cells": [
  {
   "cell_type": "markdown",
   "id": "84d325fb",
   "metadata": {},
   "source": [
    "# Research & Data Exploration"
   ]
  },
  {
   "cell_type": "markdown",
   "id": "2c18e6f5",
   "metadata": {},
   "source": [
    "## Dataset Overview & Objectives"
   ]
  },
  {
   "cell_type": "markdown",
   "id": "eae6906c",
   "metadata": {},
   "source": [
    "* **Name of dataset**: diabetes_data_upload.csv\n",
    "\n",
    "* **Source**: \n",
    "https://archive-beta.ics.uci.edu/ml/datasets/early+stage+diabetes+risk+prediction+dataset\n",
    "\n",
    "* **Date/Time of download**: 13.10.2022 09:32\n",
    "\n",
    "* **Reason for chosen dataset**: Diabetes is an increasing, widespread and present disease in our population. As my grandparents are also affected by diabetes, I have heard a lot about the disease and find it quite interesting.\n",
    "\n",
    "* **Brief explanation**: The chosen dataset provides sign and symptom data of newly diabetic or would be diabetic patients. The dataset consists of 17 attributes representing different health-related questions and the class attribute (diabetes or non-diabetes). (Elsayed N. et al., 2022)\n",
    "\n",
    "* **Main objective**: The aim is to build a predictive model to predict if a person has early-stage diabetes or not.\n",
    "\n"
   ]
  },
  {
   "cell_type": "markdown",
   "id": "1ece6ffa",
   "metadata": {},
   "source": [
    "## Paper Peer-Review"
   ]
  },
  {
   "cell_type": "markdown",
   "id": "840590b6",
   "metadata": {},
   "source": [
    "Diabetes is a metabolic chronic disease caused by the malfunction of the pancreas production of the insulin hormone, characterized by high blood sugar levels. The paper is addressing the problem of diabetics being diagnosed in late stages or not being diagnosed at all. A lot of diabetics are unaware of their disease. The main goal is to diagnose diabetes in early stage and thereby prevent severe side effects of the disease. Due to life commitments, financial constraints, and the limited number of medical providers, especially in rural and development areas, populations are not seeking regular health check-ups that lead to late diagnoses of diseases. Moreover, due to the COVID-19 pandemic, there is a significant shortage of medical providers and long waiting lines for medical services. Uncontrolled diabetes can lead to severe damage to body organs, strokes or even sudden death.\n",
    "\n",
    "The diabetes prediction should be accomplished by a data questionnaire, that can early alert the users to seek medical assistance and detect diabetes. The data has been collected using questionnaires from patients of Sylhet Diabetes Hospital in Bangladesh, approved by a doctor. The model, based on the extreme learning machine algorithm, is inexpensive and can be used by medical personnel as an assistant for finding diabetes. The model resulted in 98.07% accuracy with zero false-positive rates. The proposed model is supposed to be applied in a user-friendly application that can be used in different areas, especially the rural and development regions.\n",
    "\n",
    "As diabetes is a popular disease and increasing globally, it affects a lot of people. Recognizing the disease early can prevent severe side effects and thereby increase life quality. The model does not replace the medical provider. However, it can serve as an early alarm to the user to check diabetes and receive the needed treatment. (297 words)\n",
    "\n",
    "Source:  N. Elsayed, Z. ElSayed, M. Ozer “Early Stage Diabetes Prediction via Extreme Learning Machine”, University of Cincinnati, 2022"
   ]
  },
  {
   "cell_type": "markdown",
   "id": "72e9fd4d",
   "metadata": {},
   "source": [
    "## Data Exploration"
   ]
  },
  {
   "cell_type": "markdown",
   "id": "981675cf",
   "metadata": {},
   "source": [
    "This part should give more insights about the data of the chosen dataset. In the following, information will be provided such as size of the data, names of features/columns and class distribution. In addition, visuals and diagrams will be provided."
   ]
  },
  {
   "cell_type": "markdown",
   "id": "9991a2c2",
   "metadata": {},
   "source": [
    "### Load Data"
   ]
  },
  {
   "cell_type": "code",
   "execution_count": 1,
   "id": "c987c109",
   "metadata": {},
   "outputs": [],
   "source": [
    "import pandas as pd\n",
    "# load CSV File Dataset\n",
    "df = pd.read_csv('data/diabetes_data_upload.csv')"
   ]
  },
  {
   "cell_type": "markdown",
   "id": "c1d3d3af",
   "metadata": {},
   "source": [
    "### First Exploratory Data Analysis"
   ]
  },
  {
   "cell_type": "code",
   "execution_count": 2,
   "id": "237f8473",
   "metadata": {},
   "outputs": [
    {
     "name": "stdout",
     "output_type": "stream",
     "text": [
      "The dataset has 520 rows and 17 columns.\n"
     ]
    }
   ],
   "source": [
    "# get number of columns and rows\n",
    "print(f'The dataset has {df.shape[0]} rows and {df.shape[1]} columns.')"
   ]
  },
  {
   "cell_type": "markdown",
   "id": "8932a65d",
   "metadata": {},
   "source": [
    "This means that there were 520 participants and 17 features recorded in this dataset."
   ]
  },
  {
   "cell_type": "markdown",
   "id": "3494ccd0",
   "metadata": {},
   "source": [
    "**Data Types** The following code checks the data types of the input features in the dataset. Below can be seen that there is one feature that is of numeric value while the others are all categorical (objects)."
   ]
  },
  {
   "cell_type": "code",
   "execution_count": 3,
   "id": "05b47d49",
   "metadata": {
    "scrolled": true
   },
   "outputs": [
    {
     "name": "stdout",
     "output_type": "stream",
     "text": [
      "Data Types of columns:\n",
      "<class 'pandas.core.frame.DataFrame'>\n",
      "RangeIndex: 520 entries, 0 to 519\n",
      "Data columns (total 17 columns):\n",
      " #   Column              Non-Null Count  Dtype \n",
      "---  ------              --------------  ----- \n",
      " 0   Age                 520 non-null    int64 \n",
      " 1   Gender              520 non-null    object\n",
      " 2   Polyuria            520 non-null    object\n",
      " 3   Polydipsia          520 non-null    object\n",
      " 4   sudden weight loss  520 non-null    object\n",
      " 5   weakness            520 non-null    object\n",
      " 6   Polyphagia          520 non-null    object\n",
      " 7   Genital thrush      520 non-null    object\n",
      " 8   visual blurring     520 non-null    object\n",
      " 9   Itching             520 non-null    object\n",
      " 10  Irritability        520 non-null    object\n",
      " 11  delayed healing     520 non-null    object\n",
      " 12  partial paresis     520 non-null    object\n",
      " 13  muscle stiffness    520 non-null    object\n",
      " 14  Alopecia            520 non-null    object\n",
      " 15  Obesity             520 non-null    object\n",
      " 16  class               520 non-null    object\n",
      "dtypes: int64(1), object(16)\n",
      "memory usage: 69.2+ KB\n"
     ]
    }
   ],
   "source": [
    "# get data types\n",
    "print('Data Types of columns:')\n",
    "df.info()"
   ]
  },
  {
   "cell_type": "markdown",
   "id": "5b580667",
   "metadata": {},
   "source": [
    "**Insight of Data** The table below represents the first five columns of the dataset."
   ]
  },
  {
   "cell_type": "code",
   "execution_count": 4,
   "id": "780b1d09",
   "metadata": {},
   "outputs": [
    {
     "data": {
      "text/html": [
       "<div>\n",
       "<style scoped>\n",
       "    .dataframe tbody tr th:only-of-type {\n",
       "        vertical-align: middle;\n",
       "    }\n",
       "\n",
       "    .dataframe tbody tr th {\n",
       "        vertical-align: top;\n",
       "    }\n",
       "\n",
       "    .dataframe thead th {\n",
       "        text-align: right;\n",
       "    }\n",
       "</style>\n",
       "<table border=\"1\" class=\"dataframe\">\n",
       "  <thead>\n",
       "    <tr style=\"text-align: right;\">\n",
       "      <th></th>\n",
       "      <th>Age</th>\n",
       "      <th>Gender</th>\n",
       "      <th>Polyuria</th>\n",
       "      <th>Polydipsia</th>\n",
       "      <th>sudden weight loss</th>\n",
       "      <th>weakness</th>\n",
       "      <th>Polyphagia</th>\n",
       "      <th>Genital thrush</th>\n",
       "      <th>visual blurring</th>\n",
       "      <th>Itching</th>\n",
       "      <th>Irritability</th>\n",
       "      <th>delayed healing</th>\n",
       "      <th>partial paresis</th>\n",
       "      <th>muscle stiffness</th>\n",
       "      <th>Alopecia</th>\n",
       "      <th>Obesity</th>\n",
       "      <th>class</th>\n",
       "    </tr>\n",
       "  </thead>\n",
       "  <tbody>\n",
       "    <tr>\n",
       "      <th>0</th>\n",
       "      <td>40</td>\n",
       "      <td>Male</td>\n",
       "      <td>No</td>\n",
       "      <td>Yes</td>\n",
       "      <td>No</td>\n",
       "      <td>Yes</td>\n",
       "      <td>No</td>\n",
       "      <td>No</td>\n",
       "      <td>No</td>\n",
       "      <td>Yes</td>\n",
       "      <td>No</td>\n",
       "      <td>Yes</td>\n",
       "      <td>No</td>\n",
       "      <td>Yes</td>\n",
       "      <td>Yes</td>\n",
       "      <td>Yes</td>\n",
       "      <td>Positive</td>\n",
       "    </tr>\n",
       "    <tr>\n",
       "      <th>1</th>\n",
       "      <td>58</td>\n",
       "      <td>Male</td>\n",
       "      <td>No</td>\n",
       "      <td>No</td>\n",
       "      <td>No</td>\n",
       "      <td>Yes</td>\n",
       "      <td>No</td>\n",
       "      <td>No</td>\n",
       "      <td>Yes</td>\n",
       "      <td>No</td>\n",
       "      <td>No</td>\n",
       "      <td>No</td>\n",
       "      <td>Yes</td>\n",
       "      <td>No</td>\n",
       "      <td>Yes</td>\n",
       "      <td>No</td>\n",
       "      <td>Positive</td>\n",
       "    </tr>\n",
       "    <tr>\n",
       "      <th>2</th>\n",
       "      <td>41</td>\n",
       "      <td>Male</td>\n",
       "      <td>Yes</td>\n",
       "      <td>No</td>\n",
       "      <td>No</td>\n",
       "      <td>Yes</td>\n",
       "      <td>Yes</td>\n",
       "      <td>No</td>\n",
       "      <td>No</td>\n",
       "      <td>Yes</td>\n",
       "      <td>No</td>\n",
       "      <td>Yes</td>\n",
       "      <td>No</td>\n",
       "      <td>Yes</td>\n",
       "      <td>Yes</td>\n",
       "      <td>No</td>\n",
       "      <td>Positive</td>\n",
       "    </tr>\n",
       "    <tr>\n",
       "      <th>3</th>\n",
       "      <td>45</td>\n",
       "      <td>Male</td>\n",
       "      <td>No</td>\n",
       "      <td>No</td>\n",
       "      <td>Yes</td>\n",
       "      <td>Yes</td>\n",
       "      <td>Yes</td>\n",
       "      <td>Yes</td>\n",
       "      <td>No</td>\n",
       "      <td>Yes</td>\n",
       "      <td>No</td>\n",
       "      <td>Yes</td>\n",
       "      <td>No</td>\n",
       "      <td>No</td>\n",
       "      <td>No</td>\n",
       "      <td>No</td>\n",
       "      <td>Positive</td>\n",
       "    </tr>\n",
       "    <tr>\n",
       "      <th>4</th>\n",
       "      <td>60</td>\n",
       "      <td>Male</td>\n",
       "      <td>Yes</td>\n",
       "      <td>Yes</td>\n",
       "      <td>Yes</td>\n",
       "      <td>Yes</td>\n",
       "      <td>Yes</td>\n",
       "      <td>No</td>\n",
       "      <td>Yes</td>\n",
       "      <td>Yes</td>\n",
       "      <td>Yes</td>\n",
       "      <td>Yes</td>\n",
       "      <td>Yes</td>\n",
       "      <td>Yes</td>\n",
       "      <td>Yes</td>\n",
       "      <td>Yes</td>\n",
       "      <td>Positive</td>\n",
       "    </tr>\n",
       "  </tbody>\n",
       "</table>\n",
       "</div>"
      ],
      "text/plain": [
       "   Age Gender Polyuria Polydipsia sudden weight loss weakness Polyphagia  \\\n",
       "0   40   Male       No        Yes                 No      Yes         No   \n",
       "1   58   Male       No         No                 No      Yes         No   \n",
       "2   41   Male      Yes         No                 No      Yes        Yes   \n",
       "3   45   Male       No         No                Yes      Yes        Yes   \n",
       "4   60   Male      Yes        Yes                Yes      Yes        Yes   \n",
       "\n",
       "  Genital thrush visual blurring Itching Irritability delayed healing  \\\n",
       "0             No              No     Yes           No             Yes   \n",
       "1             No             Yes      No           No              No   \n",
       "2             No              No     Yes           No             Yes   \n",
       "3            Yes              No     Yes           No             Yes   \n",
       "4             No             Yes     Yes          Yes             Yes   \n",
       "\n",
       "  partial paresis muscle stiffness Alopecia Obesity     class  \n",
       "0              No              Yes      Yes     Yes  Positive  \n",
       "1             Yes               No      Yes      No  Positive  \n",
       "2              No              Yes      Yes      No  Positive  \n",
       "3              No               No       No      No  Positive  \n",
       "4             Yes              Yes      Yes     Yes  Positive  "
      ]
     },
     "execution_count": 4,
     "metadata": {},
     "output_type": "execute_result"
    }
   ],
   "source": [
    "# get first 5 elements\n",
    "df.head()"
   ]
  },
  {
   "cell_type": "markdown",
   "id": "60decc9a",
   "metadata": {},
   "source": [
    "### Feature Exploration"
   ]
  },
  {
   "cell_type": "markdown",
   "id": "1d269da3",
   "metadata": {},
   "source": [
    "**Feature Names** The following code provides the feature names of the dataset."
   ]
  },
  {
   "cell_type": "code",
   "execution_count": 5,
   "id": "59cf8a90",
   "metadata": {},
   "outputs": [
    {
     "name": "stdout",
     "output_type": "stream",
     "text": [
      "Feature names: ['Age' 'Gender' 'Polyuria' 'Polydipsia' 'sudden weight loss' 'weakness'\n",
      " 'Polyphagia' 'Genital thrush' 'visual blurring' 'Itching' 'Irritability'\n",
      " 'delayed healing' 'partial paresis' 'muscle stiffness' 'Alopecia'\n",
      " 'Obesity' 'class']\n"
     ]
    }
   ],
   "source": [
    "# get column names\n",
    "print(f'Feature names: {df.columns.values}')"
   ]
  },
  {
   "cell_type": "markdown",
   "id": "9772e472",
   "metadata": {},
   "source": [
    "**Feature Values** The information below shows that the dataset has mostly binary features, apart from the age column."
   ]
  },
  {
   "cell_type": "code",
   "execution_count": 6,
   "id": "bcc22ece",
   "metadata": {
    "scrolled": true
   },
   "outputs": [
    {
     "name": "stdout",
     "output_type": "stream",
     "text": [
      "Number of different features for every column: \n",
      "Age 51\n",
      "Gender 2\n",
      "Polyuria 2\n",
      "Polydipsia 2\n",
      "sudden weight loss 2\n",
      "weakness 2\n",
      "Polyphagia 2\n",
      "Genital thrush 2\n",
      "visual blurring 2\n",
      "Itching 2\n",
      "Irritability 2\n",
      "delayed healing 2\n",
      "partial paresis 2\n",
      "muscle stiffness 2\n",
      "Alopecia 2\n",
      "Obesity 2\n",
      "class 2\n"
     ]
    }
   ],
   "source": [
    "# get number of different features for every column\n",
    "print('Number of different features for every column: ')\n",
    "for i in df.columns:\n",
    "    print(i,len(df[i].unique()))"
   ]
  },
  {
   "cell_type": "markdown",
   "id": "dac2b6b0",
   "metadata": {},
   "source": [
    "**Binary Features** The information below shows the values of all binary features."
   ]
  },
  {
   "cell_type": "code",
   "execution_count": 7,
   "id": "48bb758d",
   "metadata": {},
   "outputs": [
    {
     "name": "stdout",
     "output_type": "stream",
     "text": [
      "Gender has: ['Male' 'Female']\n",
      "Polyuria has: ['No' 'Yes']\n",
      "Polydipsia has: ['Yes' 'No']\n",
      "sudden weight loss has: ['No' 'Yes']\n",
      "weakness has: ['Yes' 'No']\n",
      "Polyphagia has: ['No' 'Yes']\n",
      "Genital thrush has: ['No' 'Yes']\n",
      "visual blurring has: ['No' 'Yes']\n",
      "Itching has: ['Yes' 'No']\n",
      "Irritability has: ['No' 'Yes']\n",
      "delayed healing has: ['Yes' 'No']\n",
      "partial paresis has: ['No' 'Yes']\n",
      "muscle stiffness has: ['Yes' 'No']\n",
      "Alopecia has: ['Yes' 'No']\n",
      "Obesity has: ['Yes' 'No']\n",
      "class has: ['Positive' 'Negative']\n"
     ]
    }
   ],
   "source": [
    "# get unique values for binary columns\n",
    "for i in df.columns:\n",
    "    if len(df[i].unique()) < 3:\n",
    "        print(f'{i} has: {df[i].unique()}')"
   ]
  },
  {
   "cell_type": "markdown",
   "id": "81ecaec8",
   "metadata": {},
   "source": [
    "**Numerical Features** The age feature is the only numerical feature in our dataset."
   ]
  },
  {
   "cell_type": "code",
   "execution_count": 8,
   "id": "aeab87f4",
   "metadata": {},
   "outputs": [
    {
     "name": "stdout",
     "output_type": "stream",
     "text": [
      "Description of column Age:\n"
     ]
    },
    {
     "data": {
      "text/html": [
       "<div>\n",
       "<style scoped>\n",
       "    .dataframe tbody tr th:only-of-type {\n",
       "        vertical-align: middle;\n",
       "    }\n",
       "\n",
       "    .dataframe tbody tr th {\n",
       "        vertical-align: top;\n",
       "    }\n",
       "\n",
       "    .dataframe thead th {\n",
       "        text-align: right;\n",
       "    }\n",
       "</style>\n",
       "<table border=\"1\" class=\"dataframe\">\n",
       "  <thead>\n",
       "    <tr style=\"text-align: right;\">\n",
       "      <th></th>\n",
       "      <th>Age</th>\n",
       "    </tr>\n",
       "  </thead>\n",
       "  <tbody>\n",
       "    <tr>\n",
       "      <th>count</th>\n",
       "      <td>520.000000</td>\n",
       "    </tr>\n",
       "    <tr>\n",
       "      <th>mean</th>\n",
       "      <td>48.028846</td>\n",
       "    </tr>\n",
       "    <tr>\n",
       "      <th>std</th>\n",
       "      <td>12.151466</td>\n",
       "    </tr>\n",
       "    <tr>\n",
       "      <th>min</th>\n",
       "      <td>16.000000</td>\n",
       "    </tr>\n",
       "    <tr>\n",
       "      <th>25%</th>\n",
       "      <td>39.000000</td>\n",
       "    </tr>\n",
       "    <tr>\n",
       "      <th>50%</th>\n",
       "      <td>47.500000</td>\n",
       "    </tr>\n",
       "    <tr>\n",
       "      <th>75%</th>\n",
       "      <td>57.000000</td>\n",
       "    </tr>\n",
       "    <tr>\n",
       "      <th>max</th>\n",
       "      <td>90.000000</td>\n",
       "    </tr>\n",
       "  </tbody>\n",
       "</table>\n",
       "</div>"
      ],
      "text/plain": [
       "              Age\n",
       "count  520.000000\n",
       "mean    48.028846\n",
       "std     12.151466\n",
       "min     16.000000\n",
       "25%     39.000000\n",
       "50%     47.500000\n",
       "75%     57.000000\n",
       "max     90.000000"
      ]
     },
     "execution_count": 8,
     "metadata": {},
     "output_type": "execute_result"
    }
   ],
   "source": [
    "# description about numerical data of the dataframe\n",
    "print(f'Description of column Age:')\n",
    "df.describe()"
   ]
  },
  {
   "cell_type": "markdown",
   "id": "72979796",
   "metadata": {},
   "source": [
    "The table above shows an average age of the participants of 48 years. The age range is 16 to 90 years old. 25% of patients in this dataset are below the age of 39, 50% are below the age of 47.5 and 75% are below the age of 57."
   ]
  },
  {
   "cell_type": "markdown",
   "id": "3dfff222",
   "metadata": {},
   "source": [
    "### Class distribution"
   ]
  },
  {
   "cell_type": "markdown",
   "id": "faf67254",
   "metadata": {},
   "source": [
    "**Class Variable** The following code gives us the numbers and percentage distribution of the class variable."
   ]
  },
  {
   "cell_type": "code",
   "execution_count": 9,
   "id": "25dd008f",
   "metadata": {},
   "outputs": [
    {
     "name": "stdout",
     "output_type": "stream",
     "text": [
      "Number of class outcome: \n",
      "Positive    320\n",
      "Negative    200\n",
      "Name: class, dtype: int64 \n",
      "\n",
      "Percentage of positive diabetes cases:  0.6153846153846154\n",
      "Percentage of negative diabetes cases:  0.38461538461538464\n"
     ]
    }
   ],
   "source": [
    "# get number of positive and negative outcomes of diagnosed diabetes of participants in this dataset\n",
    "print('Number of class outcome: ')\n",
    "print(df['class'].value_counts(),'\\n')\n",
    "\n",
    "# get percentage distribution of class values\n",
    "print('Percentage of positive diabetes cases: ', (df['class'][df['class']=='Positive'].count())/df.shape[0])\n",
    "print('Percentage of negative diabetes cases: ', (df['class'][df['class']=='Negative'].count())/df.shape[0])"
   ]
  },
  {
   "cell_type": "markdown",
   "id": "07fa97b3",
   "metadata": {},
   "source": [
    "As shown above, there are 320 (61.54%) diabetes and 200 (38.46%) non-diabetes cases in this dataset. As a result, the dataset is slightly imbalanced, but still balanced enough to ensure accurate predictions."
   ]
  },
  {
   "cell_type": "code",
   "execution_count": 10,
   "id": "ca7d06ff",
   "metadata": {},
   "outputs": [
    {
     "data": {
      "image/png": "[encoded data removed]",
      "text/plain": [
       "<Figure size 172.8x216 with 1 Axes>"
      ]
     },
     "metadata": {},
     "output_type": "display_data"
    }
   ],
   "source": [
    "import seaborn as sns\n",
    "import matplotlib.pyplot as plt\n",
    "\n",
    "# get target figure\n",
    "sns.set_style('darkgrid')\n",
    "sns.set_palette('Set2')\n",
    "sns.catplot(x='class', hue='class', data=df, kind='count', height=3, aspect=.8)\n",
    "plt.title('Diabetes Outcome')\n",
    "plt.show()"
   ]
  },
  {
   "cell_type": "markdown",
   "id": "86fdd9df",
   "metadata": {},
   "source": [
    "The graph above demonstrates the distribution of the class variable. There are more positive then negative diabetes cases in the dataset."
   ]
  },
  {
   "cell_type": "markdown",
   "id": "2086f6ed",
   "metadata": {},
   "source": [
    "### Feature Distribution"
   ]
  },
  {
   "cell_type": "markdown",
   "id": "7f60be39",
   "metadata": {},
   "source": [
    "**Gender Feature** The following code gives the distribution of the gender feature."
   ]
  },
  {
   "cell_type": "code",
   "execution_count": 11,
   "id": "6c9d98c9",
   "metadata": {},
   "outputs": [
    {
     "data": {
      "image/png": "[encoded data removed]",
      "text/plain": [
       "<Figure size 172.8x216 with 1 Axes>"
      ]
     },
     "metadata": {},
     "output_type": "display_data"
    }
   ],
   "source": [
    "# get figure for gender distribution\n",
    "sns.catplot(x='Gender', hue='Gender', data=df, kind='count', height=3, aspect=.8)\n",
    "plt.title('Gender Count')\n",
    "plt.show()"
   ]
  },
  {
   "cell_type": "markdown",
   "id": "2a05f708",
   "metadata": {},
   "source": [
    "The graph above shows that there are more male participants than female participants. There slightly more than 300 men and just under 200 women in the dataset."
   ]
  },
  {
   "cell_type": "code",
   "execution_count": 12,
   "id": "cb4f742c",
   "metadata": {},
   "outputs": [
    {
     "name": "stdout",
     "output_type": "stream",
     "text": [
      "Male      328\n",
      "Female    192\n",
      "Name: Gender, dtype: int64\n",
      "Male percentage:  0.6307692307692307\n",
      "Female percentage:  0.36923076923076925\n"
     ]
    }
   ],
   "source": [
    "# get number of male and female participants\n",
    "print(df['Gender'].value_counts())\n",
    "\n",
    "# get percentage distribution of gender values\n",
    "print('Male percentage: ', (df['Gender'][df['Gender']=='Male'].count())/df.shape[0])\n",
    "print('Female percentage: ', (df['Gender'][df['Gender']=='Female'].count())/df.shape[0])"
   ]
  },
  {
   "cell_type": "markdown",
   "id": "632d68a9",
   "metadata": {},
   "source": [
    "328 (63.08%) of participants are male and 192 (36.92%) are female."
   ]
  },
  {
   "cell_type": "markdown",
   "id": "91e993a1",
   "metadata": {},
   "source": [
    "**Age Feature** The following graph demonstrates the distribution of age."
   ]
  },
  {
   "cell_type": "code",
   "execution_count": 13,
   "id": "16c5d57a",
   "metadata": {},
   "outputs": [
    {
     "data": {
      "image/png": "[encoded data removed]",
      "text/plain": [
       "<Figure size 432x216 with 1 Axes>"
      ]
     },
     "metadata": {},
     "output_type": "display_data"
    }
   ],
   "source": [
    "# get a graph to view the age distribution\n",
    "numerical_vals = ['Age']\n",
    "df[numerical_vals].hist(bins=30,figsize=(6,3))\n",
    "plt.title('Age Distribution')\n",
    "plt.xlabel('years')\n",
    "plt.ylabel('count')\n",
    "plt.show()"
   ]
  },
  {
   "cell_type": "markdown",
   "id": "f0d7d546",
   "metadata": {},
   "source": [
    "The graph shows that age varies from about 10 to 90 years. Most participants are between 25 and 70."
   ]
  },
  {
   "cell_type": "code",
   "execution_count": 14,
   "id": "4a7827b6",
   "metadata": {},
   "outputs": [
    {
     "data": {
      "text/html": [
       "<div>\n",
       "<style scoped>\n",
       "    .dataframe tbody tr th:only-of-type {\n",
       "        vertical-align: middle;\n",
       "    }\n",
       "\n",
       "    .dataframe tbody tr th {\n",
       "        vertical-align: top;\n",
       "    }\n",
       "\n",
       "    .dataframe thead th {\n",
       "        text-align: right;\n",
       "    }\n",
       "</style>\n",
       "<table border=\"1\" class=\"dataframe\">\n",
       "  <thead>\n",
       "    <tr style=\"text-align: right;\">\n",
       "      <th></th>\n",
       "      <th>Age</th>\n",
       "    </tr>\n",
       "    <tr>\n",
       "      <th>class</th>\n",
       "      <th></th>\n",
       "    </tr>\n",
       "  </thead>\n",
       "  <tbody>\n",
       "    <tr>\n",
       "      <th>Negative</th>\n",
       "      <td>46.360000</td>\n",
       "    </tr>\n",
       "    <tr>\n",
       "      <th>Positive</th>\n",
       "      <td>49.071875</td>\n",
       "    </tr>\n",
       "  </tbody>\n",
       "</table>\n",
       "</div>"
      ],
      "text/plain": [
       "                Age\n",
       "class              \n",
       "Negative  46.360000\n",
       "Positive  49.071875"
      ]
     },
     "execution_count": 14,
     "metadata": {},
     "output_type": "execute_result"
    }
   ],
   "source": [
    "# group age mean by class\n",
    "df.groupby('class').mean()"
   ]
  },
  {
   "cell_type": "markdown",
   "id": "82e7f2e5",
   "metadata": {},
   "source": [
    "The average age of diabetes patients is 49 years old, and 46 years for non-diabetes participants."
   ]
  },
  {
   "cell_type": "markdown",
   "id": "9ef0ecc7",
   "metadata": {},
   "source": [
    "**Symptom features** The graph below shows the outcome of the different symptoms of our dataset. "
   ]
  },
  {
   "cell_type": "code",
   "execution_count": 15,
   "id": "8c69baf7",
   "metadata": {
    "scrolled": false
   },
   "outputs": [
    {
     "data": {
      "image/png": "[encoded data removed]",
      "text/plain": [
       "<Figure size 1440x576 with 1 Axes>"
      ]
     },
     "metadata": {},
     "output_type": "display_data"
    }
   ],
   "source": [
    "# get graph showing the outcome of symptom features\n",
    "symptoms = df.drop(columns=['class', 'Age', 'Gender'], axis=1)\n",
    "meltSymptoms = pd.melt(symptoms)\n",
    "sns.set(rc={'figure.figsize':(20,8)})\n",
    "sns.countplot(data=meltSymptoms.loc[meltSymptoms['value']!='NO'], x='variable', hue='value')\n",
    "plt.title('Outcome of symptoms')\n",
    "plt.show()"
   ]
  },
  {
   "cell_type": "markdown",
   "id": "fd777ee0",
   "metadata": {},
   "source": [
    "Interpreting the graph above, there are about 50% that have polyuria and 50% that don't have it. Polydipsia is slightly less represented. The most represented symptom is weakness. Most participants don't have genital thrush, irritability or obesity."
   ]
  },
  {
   "cell_type": "markdown",
   "id": "daf1ae8a",
   "metadata": {},
   "source": [
    "### Interaction of target class and features"
   ]
  },
  {
   "cell_type": "markdown",
   "id": "d12cd902",
   "metadata": {},
   "source": [
    "**Class vs Gender** The figure below shows the distribution of patients with disease according to gender."
   ]
  },
  {
   "cell_type": "code",
   "execution_count": 16,
   "id": "3e50f1f2",
   "metadata": {
    "scrolled": true
   },
   "outputs": [
    {
     "data": {
      "image/png": "[encoded data removed]",
      "text/plain": [
       "<Figure size 504x360 with 1 Axes>"
      ]
     },
     "metadata": {},
     "output_type": "display_data"
    }
   ],
   "source": [
    "# get distribution figure for target class and gender feature\n",
    "sns.set(rc={'figure.figsize':(7,5)})\n",
    "sns.countplot(data= df, x='Gender',hue='class')\n",
    "plt.title('Gender v/s diabetes\\n')\n",
    "plt.show()"
   ]
  },
  {
   "cell_type": "markdown",
   "id": "0b56ff46",
   "metadata": {},
   "source": [
    "As we can see, there are more women with diabetes then men with diabetes in this dataset. And there are a lot of men with no diabetes and very few women with no diabetes."
   ]
  },
  {
   "cell_type": "markdown",
   "id": "07760731",
   "metadata": {},
   "source": [
    "**Class vs Age** The following boxplot presents the distribution of age according to the diabetic and non-diabetic status of participants."
   ]
  },
  {
   "cell_type": "code",
   "execution_count": 17,
   "id": "62b67574",
   "metadata": {
    "scrolled": true
   },
   "outputs": [
    {
     "data": {
      "image/png": "[encoded data removed]",
      "text/plain": [
       "<Figure size 504x360 with 1 Axes>"
      ]
     },
     "metadata": {},
     "output_type": "display_data"
    }
   ],
   "source": [
    "# show boxplot resp. distribution of class/diabetes values regarding age\n",
    "sns.boxplot(data=df,x='class',y='Age')\n",
    "plt.ylabel('Age (in years)')\n",
    "plt.title('Distribution of age by diabetes status')\n",
    "plt.show()"
   ]
  },
  {
   "cell_type": "markdown",
   "id": "05733969",
   "metadata": {},
   "source": [
    "The boxplot shows the minimum (Q0), first quartile(Q1), median (Q2), third quartile (Q3) and maximum (Q4) for diabetic and non-diabetic patients. For diabetics, it indicates a median of approximately 48 years. For non-diabetics, it indicates a median of approximately 45 years."
   ]
  },
  {
   "cell_type": "markdown",
   "id": "cdbf4f8a",
   "metadata": {},
   "source": [
    "**Class vs Symptom Features** At last, the figure above shows how many participants have diabetes or not for each symptom outcome. "
   ]
  },
  {
   "cell_type": "code",
   "execution_count": 18,
   "id": "d9b122c7",
   "metadata": {},
   "outputs": [
    {
     "name": "stdout",
     "output_type": "stream",
     "text": [
      "Symptoms in relation to Diabetes Outcome\n"
     ]
    },
    {
     "data": {
      "image/png": "[encoded data removed]",
      "text/plain": [
       "<Figure size 1080x1080 with 16 Axes>"
      ]
     },
     "metadata": {},
     "output_type": "display_data"
    }
   ],
   "source": [
    "# create a figure to be able to display multiple graphs beside eachother\n",
    "fig, ax = plt.subplots(4, 4)\n",
    "\n",
    "# set height & width of figure\n",
    "fig.set_figheight(15)\n",
    "fig.set_figwidth(15)\n",
    "\n",
    "# set title\n",
    "print('Symptoms in relation to Diabetes Outcome')\n",
    "\n",
    "# build graphs for every symptom in relation to class variable & insert in figure\n",
    "row=0\n",
    "column=0\n",
    "for symptom in symptoms:\n",
    "    sns.countplot(data= df, x=symptom, hue='class', ax=ax[row,column])\n",
    "    ax[row, column].set_title(symptom)\n",
    "    column=column+1\n",
    "    if(column%4==0):\n",
    "        column=0\n",
    "        row=row+1\n",
    "\n",
    "# hide not used graph space\n",
    "ax[3, 2].axis('off')\n",
    "ax[3, 3].axis('off')\n",
    "\n",
    "# setting custom values for all y axes (for better visualisation & comparison)\n",
    "custom_ylim = (0, 275)\n",
    "plt.setp(ax, ylim=custom_ylim)\n",
    "\n",
    "# hide unnecessary labels\n",
    "for ax in ax.flat:\n",
    "    ax.set(xlabel=None)\n",
    "    ax.set(ylabel=None)"
   ]
  },
  {
   "cell_type": "markdown",
   "id": "dfda5028",
   "metadata": {},
   "source": [
    "Interpreting the graphs, you can observe that there are different kinds of patterns. The first graph demonstrates that patients with polyuria most likely have diabetes. If you don't have polyuria, you are more likely to be Diabetes negative, however there is a fairly chance to be positive. The same applies to the symptom polydipsia. These two features have quite similar results. As for some features, they demonstrate approximately the same distribution of positive and negative outcome within having symptom or no symptom. As a result, these show no real difference of diabetes outcome within having this symptom or not. Therefore, they tend to be less important for predicting the target outcome. These are for example Itching, delayed healing, Obesity and Genital thrush. Then some graphs show that participants having a symptom are mostly likely positive, but not having it doesn't indicate about the positive or negative outcome of diabetes. Examples are visual blurring, polyphagia, alopecia, partial paresis and sudden weight loss."
   ]
  },
  {
   "cell_type": "markdown",
   "id": "f747a2ce",
   "metadata": {},
   "source": [
    "## Data Pre-Processing"
   ]
  },
  {
   "cell_type": "markdown",
   "id": "181dede0",
   "metadata": {},
   "source": [
    "In the following part, the data of the dataset will be prepared for further processing steps. The raw data will be transformed in an understandable and effective format. Real-world data is often incomplete, inconsistent and likely to contain many errors. (Hutajulu Oscar, 2019)"
   ]
  },
  {
   "cell_type": "markdown",
   "id": "a81516b1",
   "metadata": {},
   "source": [
    "**Missing Values** Firstly, the dataset will be checked for missing values."
   ]
  },
  {
   "cell_type": "code",
   "execution_count": 19,
   "id": "cc1f4671",
   "metadata": {},
   "outputs": [
    {
     "data": {
      "text/plain": [
       "Age                   0\n",
       "Gender                0\n",
       "Polyuria              0\n",
       "Polydipsia            0\n",
       "sudden weight loss    0\n",
       "weakness              0\n",
       "Polyphagia            0\n",
       "Genital thrush        0\n",
       "visual blurring       0\n",
       "Itching               0\n",
       "Irritability          0\n",
       "delayed healing       0\n",
       "partial paresis       0\n",
       "muscle stiffness      0\n",
       "Alopecia              0\n",
       "Obesity               0\n",
       "class                 0\n",
       "dtype: int64"
      ]
     },
     "execution_count": 19,
     "metadata": {},
     "output_type": "execute_result"
    }
   ],
   "source": [
    "#check for missing values\n",
    "df.isnull().sum()"
   ]
  },
  {
   "cell_type": "markdown",
   "id": "139f7ae6",
   "metadata": {},
   "source": [
    "There are no missing values in the dataset, therefore no missing value handling methods have to be applied."
   ]
  },
  {
   "cell_type": "markdown",
   "id": "8503f79f",
   "metadata": {},
   "source": [
    "**Convert Values** For easier visual representation, non-numerical values will be replaced by numerical values.\n",
    "The target feature will be 1 for \"positive\" and 0 for \"negative\".\n",
    "The gender feature will be 1 for \"Male\" and 0 for \"Female\".\n",
    "All other features will be 1 for \"Yes\" and 0 for \"No\"."
   ]
  },
  {
   "cell_type": "code",
   "execution_count": 20,
   "id": "80960f25",
   "metadata": {},
   "outputs": [],
   "source": [
    "# For easier use change non-numerical to numerical values\n",
    "\n",
    "# Convert class values\n",
    "df = df.replace(['Positive'], 1)\n",
    "df = df.replace(['Negative'], 0)\n",
    "\n",
    "# Convert gender values\n",
    "df = df.replace(['Male'], 1)\n",
    "df = df.replace(['Female'], 0)\n",
    "\n",
    "# Convert all other feature values\n",
    "df = df.replace(['Yes'], 1)\n",
    "df = df.replace(['No'], 0)"
   ]
  },
  {
   "cell_type": "code",
   "execution_count": 21,
   "id": "9efb405e",
   "metadata": {
    "scrolled": true
   },
   "outputs": [
    {
     "data": {
      "text/html": [
       "<div>\n",
       "<style scoped>\n",
       "    .dataframe tbody tr th:only-of-type {\n",
       "        vertical-align: middle;\n",
       "    }\n",
       "\n",
       "    .dataframe tbody tr th {\n",
       "        vertical-align: top;\n",
       "    }\n",
       "\n",
       "    .dataframe thead th {\n",
       "        text-align: right;\n",
       "    }\n",
       "</style>\n",
       "<table border=\"1\" class=\"dataframe\">\n",
       "  <thead>\n",
       "    <tr style=\"text-align: right;\">\n",
       "      <th></th>\n",
       "      <th>Age</th>\n",
       "      <th>Gender</th>\n",
       "      <th>Polyuria</th>\n",
       "      <th>Polydipsia</th>\n",
       "      <th>sudden weight loss</th>\n",
       "      <th>weakness</th>\n",
       "      <th>Polyphagia</th>\n",
       "      <th>Genital thrush</th>\n",
       "      <th>visual blurring</th>\n",
       "      <th>Itching</th>\n",
       "      <th>Irritability</th>\n",
       "      <th>delayed healing</th>\n",
       "      <th>partial paresis</th>\n",
       "      <th>muscle stiffness</th>\n",
       "      <th>Alopecia</th>\n",
       "      <th>Obesity</th>\n",
       "      <th>class</th>\n",
       "    </tr>\n",
       "  </thead>\n",
       "  <tbody>\n",
       "    <tr>\n",
       "      <th>0</th>\n",
       "      <td>40</td>\n",
       "      <td>1</td>\n",
       "      <td>0</td>\n",
       "      <td>1</td>\n",
       "      <td>0</td>\n",
       "      <td>1</td>\n",
       "      <td>0</td>\n",
       "      <td>0</td>\n",
       "      <td>0</td>\n",
       "      <td>1</td>\n",
       "      <td>0</td>\n",
       "      <td>1</td>\n",
       "      <td>0</td>\n",
       "      <td>1</td>\n",
       "      <td>1</td>\n",
       "      <td>1</td>\n",
       "      <td>1</td>\n",
       "    </tr>\n",
       "    <tr>\n",
       "      <th>1</th>\n",
       "      <td>58</td>\n",
       "      <td>1</td>\n",
       "      <td>0</td>\n",
       "      <td>0</td>\n",
       "      <td>0</td>\n",
       "      <td>1</td>\n",
       "      <td>0</td>\n",
       "      <td>0</td>\n",
       "      <td>1</td>\n",
       "      <td>0</td>\n",
       "      <td>0</td>\n",
       "      <td>0</td>\n",
       "      <td>1</td>\n",
       "      <td>0</td>\n",
       "      <td>1</td>\n",
       "      <td>0</td>\n",
       "      <td>1</td>\n",
       "    </tr>\n",
       "    <tr>\n",
       "      <th>2</th>\n",
       "      <td>41</td>\n",
       "      <td>1</td>\n",
       "      <td>1</td>\n",
       "      <td>0</td>\n",
       "      <td>0</td>\n",
       "      <td>1</td>\n",
       "      <td>1</td>\n",
       "      <td>0</td>\n",
       "      <td>0</td>\n",
       "      <td>1</td>\n",
       "      <td>0</td>\n",
       "      <td>1</td>\n",
       "      <td>0</td>\n",
       "      <td>1</td>\n",
       "      <td>1</td>\n",
       "      <td>0</td>\n",
       "      <td>1</td>\n",
       "    </tr>\n",
       "    <tr>\n",
       "      <th>3</th>\n",
       "      <td>45</td>\n",
       "      <td>1</td>\n",
       "      <td>0</td>\n",
       "      <td>0</td>\n",
       "      <td>1</td>\n",
       "      <td>1</td>\n",
       "      <td>1</td>\n",
       "      <td>1</td>\n",
       "      <td>0</td>\n",
       "      <td>1</td>\n",
       "      <td>0</td>\n",
       "      <td>1</td>\n",
       "      <td>0</td>\n",
       "      <td>0</td>\n",
       "      <td>0</td>\n",
       "      <td>0</td>\n",
       "      <td>1</td>\n",
       "    </tr>\n",
       "    <tr>\n",
       "      <th>4</th>\n",
       "      <td>60</td>\n",
       "      <td>1</td>\n",
       "      <td>1</td>\n",
       "      <td>1</td>\n",
       "      <td>1</td>\n",
       "      <td>1</td>\n",
       "      <td>1</td>\n",
       "      <td>0</td>\n",
       "      <td>1</td>\n",
       "      <td>1</td>\n",
       "      <td>1</td>\n",
       "      <td>1</td>\n",
       "      <td>1</td>\n",
       "      <td>1</td>\n",
       "      <td>1</td>\n",
       "      <td>1</td>\n",
       "      <td>1</td>\n",
       "    </tr>\n",
       "  </tbody>\n",
       "</table>\n",
       "</div>"
      ],
      "text/plain": [
       "   Age  Gender  Polyuria  Polydipsia  sudden weight loss  weakness  \\\n",
       "0   40       1         0           1                   0         1   \n",
       "1   58       1         0           0                   0         1   \n",
       "2   41       1         1           0                   0         1   \n",
       "3   45       1         0           0                   1         1   \n",
       "4   60       1         1           1                   1         1   \n",
       "\n",
       "   Polyphagia  Genital thrush  visual blurring  Itching  Irritability  \\\n",
       "0           0               0                0        1             0   \n",
       "1           0               0                1        0             0   \n",
       "2           1               0                0        1             0   \n",
       "3           1               1                0        1             0   \n",
       "4           1               0                1        1             1   \n",
       "\n",
       "   delayed healing  partial paresis  muscle stiffness  Alopecia  Obesity  \\\n",
       "0                1                0                 1         1        1   \n",
       "1                0                1                 0         1        0   \n",
       "2                1                0                 1         1        0   \n",
       "3                1                0                 0         0        0   \n",
       "4                1                1                 1         1        1   \n",
       "\n",
       "   class  \n",
       "0      1  \n",
       "1      1  \n",
       "2      1  \n",
       "3      1  \n",
       "4      1  "
      ]
     },
     "execution_count": 21,
     "metadata": {},
     "output_type": "execute_result"
    }
   ],
   "source": [
    "# display current values\n",
    "df.head()"
   ]
  },
  {
   "cell_type": "markdown",
   "id": "743900e4",
   "metadata": {},
   "source": [
    "The table above shows the converted values."
   ]
  },
  {
   "cell_type": "markdown",
   "id": "e427c499",
   "metadata": {},
   "source": [
    "**Balanced Dataset** In the data exploration section, we discovered that the division of the class variable shows about 62% positive and 38% negative diabetes cases. Consequently, the dataset is slightly imbalanced, however \n",
    "there is no significant/extreme disproportion among the two target outcomes.\n",
    "Therefore, there is no need to apply under/oversampling techniques."
   ]
  },
  {
   "cell_type": "markdown",
   "id": "f2f0d6d5",
   "metadata": {},
   "source": [
    "### Feature selection"
   ]
  },
  {
   "cell_type": "markdown",
   "id": "a0608f03",
   "metadata": {},
   "source": [
    "**Correlation matrix** The correlation matrix will be displayed to demonstrate the correlation between the features. Highly correlated variables can be neglected."
   ]
  },
  {
   "cell_type": "code",
   "execution_count": 22,
   "id": "45d97539",
   "metadata": {
    "scrolled": true
   },
   "outputs": [
    {
     "data": {
      "image/png": "[encoded data removed]",
      "text/plain": [
       "<Figure size 864x720 with 2 Axes>"
      ]
     },
     "metadata": {},
     "output_type": "display_data"
    }
   ],
   "source": [
    "# get correlation heatmap for features\n",
    "features = df.drop('class', axis=1)\n",
    "corrHeatmap = features.corr()\n",
    "plt.figure(figsize=(12,10))\n",
    "sns.heatmap(corrHeatmap, cmap=plt.cm.CMRmap_r,annot=True)\n",
    "plt.show()"
   ]
  },
  {
   "cell_type": "markdown",
   "id": "ef1d4ca3",
   "metadata": {},
   "source": [
    "The heatmap above shows the correlation between the different variables. Correlation ranges from -1 to +1 and values closer to zero means there is no correlation. (Zendejas-Heredia Patsy, 2021) The graph shows that there are no highly correlated features. The most correlating variables are Polyuria and Polydipsia with a value of 0.63, they can be considered moderately correlated. Therefore, we will drop no columns according to their correlation."
   ]
  },
  {
   "cell_type": "markdown",
   "id": "ba1ae9c0",
   "metadata": {},
   "source": [
    "**P-values** Next the p-values will be inspected to check how relevant the features are for the class variable."
   ]
  },
  {
   "cell_type": "code",
   "execution_count": 23,
   "id": "266ef7e0",
   "metadata": {
    "scrolled": true
   },
   "outputs": [
    {
     "data": {
      "text/html": [
       "<div>\n",
       "<style scoped>\n",
       "    .dataframe tbody tr th:only-of-type {\n",
       "        vertical-align: middle;\n",
       "    }\n",
       "\n",
       "    .dataframe tbody tr th {\n",
       "        vertical-align: top;\n",
       "    }\n",
       "\n",
       "    .dataframe thead th {\n",
       "        text-align: right;\n",
       "    }\n",
       "</style>\n",
       "<table border=\"1\" class=\"dataframe\">\n",
       "  <thead>\n",
       "    <tr style=\"text-align: right;\">\n",
       "      <th></th>\n",
       "      <th>Age</th>\n",
       "      <th>Gender</th>\n",
       "      <th>Polyuria</th>\n",
       "      <th>Polydipsia</th>\n",
       "      <th>sudden weight loss</th>\n",
       "      <th>weakness</th>\n",
       "      <th>Polyphagia</th>\n",
       "      <th>Genital thrush</th>\n",
       "      <th>visual blurring</th>\n",
       "      <th>Itching</th>\n",
       "      <th>Irritability</th>\n",
       "      <th>delayed healing</th>\n",
       "      <th>partial paresis</th>\n",
       "      <th>muscle stiffness</th>\n",
       "      <th>Alopecia</th>\n",
       "      <th>Obesity</th>\n",
       "      <th>class</th>\n",
       "    </tr>\n",
       "  </thead>\n",
       "  <tbody>\n",
       "    <tr>\n",
       "      <th>Age</th>\n",
       "      <td>0.0</td>\n",
       "      <td>0.1522</td>\n",
       "      <td>0.0</td>\n",
       "      <td>0.0017</td>\n",
       "      <td>0.14</td>\n",
       "      <td>0.0</td>\n",
       "      <td>0.0</td>\n",
       "      <td>0.0277</td>\n",
       "      <td>0.0</td>\n",
       "      <td>0.0</td>\n",
       "      <td>0.0</td>\n",
       "      <td>0.0</td>\n",
       "      <td>0.0</td>\n",
       "      <td>0.0</td>\n",
       "      <td>0.0</td>\n",
       "      <td>0.0013</td>\n",
       "      <td>0.0132</td>\n",
       "    </tr>\n",
       "    <tr>\n",
       "      <th>Gender</th>\n",
       "      <td>0.1522</td>\n",
       "      <td>0.0</td>\n",
       "      <td>0.0</td>\n",
       "      <td>0.0</td>\n",
       "      <td>0.0</td>\n",
       "      <td>0.0045</td>\n",
       "      <td>0.0</td>\n",
       "      <td>0.0</td>\n",
       "      <td>0.0</td>\n",
       "      <td>0.2321</td>\n",
       "      <td>0.7547</td>\n",
       "      <td>0.02</td>\n",
       "      <td>0.0</td>\n",
       "      <td>0.039</td>\n",
       "      <td>0.0</td>\n",
       "      <td>0.9023</td>\n",
       "      <td>0.0</td>\n",
       "    </tr>\n",
       "    <tr>\n",
       "      <th>Polyuria</th>\n",
       "      <td>0.0</td>\n",
       "      <td>0.0</td>\n",
       "      <td>0.0</td>\n",
       "      <td>0.0</td>\n",
       "      <td>0.0</td>\n",
       "      <td>0.0</td>\n",
       "      <td>0.0</td>\n",
       "      <td>0.0467</td>\n",
       "      <td>0.0</td>\n",
       "      <td>0.0442</td>\n",
       "      <td>0.0</td>\n",
       "      <td>0.0006</td>\n",
       "      <td>0.0</td>\n",
       "      <td>0.0005</td>\n",
       "      <td>0.001</td>\n",
       "      <td>0.0038</td>\n",
       "      <td>0.0</td>\n",
       "    </tr>\n",
       "    <tr>\n",
       "      <th>Polydipsia</th>\n",
       "      <td>0.0017</td>\n",
       "      <td>0.0</td>\n",
       "      <td>0.0</td>\n",
       "      <td>0.0</td>\n",
       "      <td>0.0</td>\n",
       "      <td>0.0</td>\n",
       "      <td>0.0</td>\n",
       "      <td>0.5229</td>\n",
       "      <td>0.0</td>\n",
       "      <td>0.0033</td>\n",
       "      <td>0.0</td>\n",
       "      <td>0.0083</td>\n",
       "      <td>0.0</td>\n",
       "      <td>0.0</td>\n",
       "      <td>0.0</td>\n",
       "      <td>0.0244</td>\n",
       "      <td>0.0</td>\n",
       "    </tr>\n",
       "    <tr>\n",
       "      <th>sudden weight loss</th>\n",
       "      <td>0.14</td>\n",
       "      <td>0.0</td>\n",
       "      <td>0.0</td>\n",
       "      <td>0.0</td>\n",
       "      <td>0.0</td>\n",
       "      <td>0.0</td>\n",
       "      <td>0.0</td>\n",
       "      <td>0.0405</td>\n",
       "      <td>0.1174</td>\n",
       "      <td>0.9182</td>\n",
       "      <td>0.0013</td>\n",
       "      <td>0.0445</td>\n",
       "      <td>0.0</td>\n",
       "      <td>0.0123</td>\n",
       "      <td>0.0</td>\n",
       "      <td>0.0001</td>\n",
       "      <td>0.0</td>\n",
       "    </tr>\n",
       "    <tr>\n",
       "      <th>weakness</th>\n",
       "      <td>0.0</td>\n",
       "      <td>0.0045</td>\n",
       "      <td>0.0</td>\n",
       "      <td>0.0</td>\n",
       "      <td>0.0</td>\n",
       "      <td>0.0</td>\n",
       "      <td>0.0</td>\n",
       "      <td>0.5273</td>\n",
       "      <td>0.0</td>\n",
       "      <td>0.0</td>\n",
       "      <td>0.0008</td>\n",
       "      <td>0.0</td>\n",
       "      <td>0.0</td>\n",
       "      <td>0.0</td>\n",
       "      <td>0.0391</td>\n",
       "      <td>0.2986</td>\n",
       "      <td>0.0</td>\n",
       "    </tr>\n",
       "    <tr>\n",
       "      <th>Polyphagia</th>\n",
       "      <td>0.0</td>\n",
       "      <td>0.0</td>\n",
       "      <td>0.0</td>\n",
       "      <td>0.0</td>\n",
       "      <td>0.0</td>\n",
       "      <td>0.0</td>\n",
       "      <td>0.0</td>\n",
       "      <td>0.1468</td>\n",
       "      <td>0.0</td>\n",
       "      <td>0.001</td>\n",
       "      <td>0.0</td>\n",
       "      <td>0.0</td>\n",
       "      <td>0.0</td>\n",
       "      <td>0.0</td>\n",
       "      <td>0.2233</td>\n",
       "      <td>0.498</td>\n",
       "      <td>0.0</td>\n",
       "    </tr>\n",
       "    <tr>\n",
       "      <th>Genital thrush</th>\n",
       "      <td>0.0277</td>\n",
       "      <td>0.0</td>\n",
       "      <td>0.0467</td>\n",
       "      <td>0.5229</td>\n",
       "      <td>0.0405</td>\n",
       "      <td>0.5273</td>\n",
       "      <td>0.1468</td>\n",
       "      <td>0.0</td>\n",
       "      <td>0.0007</td>\n",
       "      <td>0.0042</td>\n",
       "      <td>0.0002</td>\n",
       "      <td>0.0019</td>\n",
       "      <td>0.0</td>\n",
       "      <td>0.0223</td>\n",
       "      <td>0.0</td>\n",
       "      <td>0.2204</td>\n",
       "      <td>0.0119</td>\n",
       "    </tr>\n",
       "    <tr>\n",
       "      <th>visual blurring</th>\n",
       "      <td>0.0</td>\n",
       "      <td>0.0</td>\n",
       "      <td>0.0</td>\n",
       "      <td>0.0</td>\n",
       "      <td>0.1174</td>\n",
       "      <td>0.0</td>\n",
       "      <td>0.0</td>\n",
       "      <td>0.0007</td>\n",
       "      <td>0.0</td>\n",
       "      <td>0.0</td>\n",
       "      <td>0.079</td>\n",
       "      <td>0.0</td>\n",
       "      <td>0.0</td>\n",
       "      <td>0.0</td>\n",
       "      <td>0.7397</td>\n",
       "      <td>0.0129</td>\n",
       "      <td>0.0</td>\n",
       "    </tr>\n",
       "    <tr>\n",
       "      <th>Itching</th>\n",
       "      <td>0.0</td>\n",
       "      <td>0.2321</td>\n",
       "      <td>0.0442</td>\n",
       "      <td>0.0033</td>\n",
       "      <td>0.9182</td>\n",
       "      <td>0.0</td>\n",
       "      <td>0.001</td>\n",
       "      <td>0.0042</td>\n",
       "      <td>0.0</td>\n",
       "      <td>0.0</td>\n",
       "      <td>0.0093</td>\n",
       "      <td>0.0</td>\n",
       "      <td>0.0077</td>\n",
       "      <td>0.0</td>\n",
       "      <td>0.0</td>\n",
       "      <td>0.9656</td>\n",
       "      <td>0.7608</td>\n",
       "    </tr>\n",
       "    <tr>\n",
       "      <th>Irritability</th>\n",
       "      <td>0.0</td>\n",
       "      <td>0.7547</td>\n",
       "      <td>0.0</td>\n",
       "      <td>0.0</td>\n",
       "      <td>0.0013</td>\n",
       "      <td>0.0008</td>\n",
       "      <td>0.0</td>\n",
       "      <td>0.0002</td>\n",
       "      <td>0.079</td>\n",
       "      <td>0.0093</td>\n",
       "      <td>0.0</td>\n",
       "      <td>0.0038</td>\n",
       "      <td>0.0005</td>\n",
       "      <td>0.0</td>\n",
       "      <td>0.3198</td>\n",
       "      <td>0.0035</td>\n",
       "      <td>0.0</td>\n",
       "    </tr>\n",
       "    <tr>\n",
       "      <th>delayed healing</th>\n",
       "      <td>0.0</td>\n",
       "      <td>0.02</td>\n",
       "      <td>0.0006</td>\n",
       "      <td>0.0083</td>\n",
       "      <td>0.0445</td>\n",
       "      <td>0.0</td>\n",
       "      <td>0.0</td>\n",
       "      <td>0.0019</td>\n",
       "      <td>0.0</td>\n",
       "      <td>0.0</td>\n",
       "      <td>0.0038</td>\n",
       "      <td>0.0</td>\n",
       "      <td>0.0</td>\n",
       "      <td>0.0</td>\n",
       "      <td>0.0</td>\n",
       "      <td>0.1308</td>\n",
       "      <td>0.2849</td>\n",
       "    </tr>\n",
       "    <tr>\n",
       "      <th>partial paresis</th>\n",
       "      <td>0.0</td>\n",
       "      <td>0.0</td>\n",
       "      <td>0.0</td>\n",
       "      <td>0.0</td>\n",
       "      <td>0.0</td>\n",
       "      <td>0.0</td>\n",
       "      <td>0.0</td>\n",
       "      <td>0.0</td>\n",
       "      <td>0.0</td>\n",
       "      <td>0.0077</td>\n",
       "      <td>0.0005</td>\n",
       "      <td>0.0</td>\n",
       "      <td>0.0</td>\n",
       "      <td>0.0</td>\n",
       "      <td>0.0</td>\n",
       "      <td>0.8306</td>\n",
       "      <td>0.0</td>\n",
       "    </tr>\n",
       "    <tr>\n",
       "      <th>muscle stiffness</th>\n",
       "      <td>0.0</td>\n",
       "      <td>0.039</td>\n",
       "      <td>0.0005</td>\n",
       "      <td>0.0</td>\n",
       "      <td>0.0123</td>\n",
       "      <td>0.0</td>\n",
       "      <td>0.0</td>\n",
       "      <td>0.0223</td>\n",
       "      <td>0.0</td>\n",
       "      <td>0.0</td>\n",
       "      <td>0.0</td>\n",
       "      <td>0.0</td>\n",
       "      <td>0.0</td>\n",
       "      <td>0.0</td>\n",
       "      <td>0.3536</td>\n",
       "      <td>0.0003</td>\n",
       "      <td>0.0052</td>\n",
       "    </tr>\n",
       "    <tr>\n",
       "      <th>Alopecia</th>\n",
       "      <td>0.0</td>\n",
       "      <td>0.0</td>\n",
       "      <td>0.001</td>\n",
       "      <td>0.0</td>\n",
       "      <td>0.0</td>\n",
       "      <td>0.0391</td>\n",
       "      <td>0.2233</td>\n",
       "      <td>0.0</td>\n",
       "      <td>0.7397</td>\n",
       "      <td>0.0</td>\n",
       "      <td>0.3198</td>\n",
       "      <td>0.0</td>\n",
       "      <td>0.0</td>\n",
       "      <td>0.3536</td>\n",
       "      <td>0.0</td>\n",
       "      <td>0.506</td>\n",
       "      <td>0.0</td>\n",
       "    </tr>\n",
       "    <tr>\n",
       "      <th>Obesity</th>\n",
       "      <td>0.0013</td>\n",
       "      <td>0.9023</td>\n",
       "      <td>0.0038</td>\n",
       "      <td>0.0244</td>\n",
       "      <td>0.0001</td>\n",
       "      <td>0.2986</td>\n",
       "      <td>0.498</td>\n",
       "      <td>0.2204</td>\n",
       "      <td>0.0129</td>\n",
       "      <td>0.9656</td>\n",
       "      <td>0.0035</td>\n",
       "      <td>0.1308</td>\n",
       "      <td>0.8306</td>\n",
       "      <td>0.0003</td>\n",
       "      <td>0.506</td>\n",
       "      <td>0.0</td>\n",
       "      <td>0.1002</td>\n",
       "    </tr>\n",
       "    <tr>\n",
       "      <th>class</th>\n",
       "      <td>0.0132</td>\n",
       "      <td>0.0</td>\n",
       "      <td>0.0</td>\n",
       "      <td>0.0</td>\n",
       "      <td>0.0</td>\n",
       "      <td>0.0</td>\n",
       "      <td>0.0</td>\n",
       "      <td>0.0119</td>\n",
       "      <td>0.0</td>\n",
       "      <td>0.7608</td>\n",
       "      <td>0.0</td>\n",
       "      <td>0.2849</td>\n",
       "      <td>0.0</td>\n",
       "      <td>0.0052</td>\n",
       "      <td>0.0</td>\n",
       "      <td>0.1002</td>\n",
       "      <td>0.0</td>\n",
       "    </tr>\n",
       "  </tbody>\n",
       "</table>\n",
       "</div>"
      ],
      "text/plain": [
       "                       Age  Gender Polyuria Polydipsia sudden weight loss  \\\n",
       "Age                    0.0  0.1522      0.0     0.0017               0.14   \n",
       "Gender              0.1522     0.0      0.0        0.0                0.0   \n",
       "Polyuria               0.0     0.0      0.0        0.0                0.0   \n",
       "Polydipsia          0.0017     0.0      0.0        0.0                0.0   \n",
       "sudden weight loss    0.14     0.0      0.0        0.0                0.0   \n",
       "weakness               0.0  0.0045      0.0        0.0                0.0   \n",
       "Polyphagia             0.0     0.0      0.0        0.0                0.0   \n",
       "Genital thrush      0.0277     0.0   0.0467     0.5229             0.0405   \n",
       "visual blurring        0.0     0.0      0.0        0.0             0.1174   \n",
       "Itching                0.0  0.2321   0.0442     0.0033             0.9182   \n",
       "Irritability           0.0  0.7547      0.0        0.0             0.0013   \n",
       "delayed healing        0.0    0.02   0.0006     0.0083             0.0445   \n",
       "partial paresis        0.0     0.0      0.0        0.0                0.0   \n",
       "muscle stiffness       0.0   0.039   0.0005        0.0             0.0123   \n",
       "Alopecia               0.0     0.0    0.001        0.0                0.0   \n",
       "Obesity             0.0013  0.9023   0.0038     0.0244             0.0001   \n",
       "class               0.0132     0.0      0.0        0.0                0.0   \n",
       "\n",
       "                   weakness Polyphagia Genital thrush visual blurring Itching  \\\n",
       "Age                     0.0        0.0         0.0277             0.0     0.0   \n",
       "Gender               0.0045        0.0            0.0             0.0  0.2321   \n",
       "Polyuria                0.0        0.0         0.0467             0.0  0.0442   \n",
       "Polydipsia              0.0        0.0         0.5229             0.0  0.0033   \n",
       "sudden weight loss      0.0        0.0         0.0405          0.1174  0.9182   \n",
       "weakness                0.0        0.0         0.5273             0.0     0.0   \n",
       "Polyphagia              0.0        0.0         0.1468             0.0   0.001   \n",
       "Genital thrush       0.5273     0.1468            0.0          0.0007  0.0042   \n",
       "visual blurring         0.0        0.0         0.0007             0.0     0.0   \n",
       "Itching                 0.0      0.001         0.0042             0.0     0.0   \n",
       "Irritability         0.0008        0.0         0.0002           0.079  0.0093   \n",
       "delayed healing         0.0        0.0         0.0019             0.0     0.0   \n",
       "partial paresis         0.0        0.0            0.0             0.0  0.0077   \n",
       "muscle stiffness        0.0        0.0         0.0223             0.0     0.0   \n",
       "Alopecia             0.0391     0.2233            0.0          0.7397     0.0   \n",
       "Obesity              0.2986      0.498         0.2204          0.0129  0.9656   \n",
       "class                   0.0        0.0         0.0119             0.0  0.7608   \n",
       "\n",
       "                   Irritability delayed healing partial paresis  \\\n",
       "Age                         0.0             0.0             0.0   \n",
       "Gender                   0.7547            0.02             0.0   \n",
       "Polyuria                    0.0          0.0006             0.0   \n",
       "Polydipsia                  0.0          0.0083             0.0   \n",
       "sudden weight loss       0.0013          0.0445             0.0   \n",
       "weakness                 0.0008             0.0             0.0   \n",
       "Polyphagia                  0.0             0.0             0.0   \n",
       "Genital thrush           0.0002          0.0019             0.0   \n",
       "visual blurring           0.079             0.0             0.0   \n",
       "Itching                  0.0093             0.0          0.0077   \n",
       "Irritability                0.0          0.0038          0.0005   \n",
       "delayed healing          0.0038             0.0             0.0   \n",
       "partial paresis          0.0005             0.0             0.0   \n",
       "muscle stiffness            0.0             0.0             0.0   \n",
       "Alopecia                 0.3198             0.0             0.0   \n",
       "Obesity                  0.0035          0.1308          0.8306   \n",
       "class                       0.0          0.2849             0.0   \n",
       "\n",
       "                   muscle stiffness Alopecia Obesity   class  \n",
       "Age                             0.0      0.0  0.0013  0.0132  \n",
       "Gender                        0.039      0.0  0.9023     0.0  \n",
       "Polyuria                     0.0005    0.001  0.0038     0.0  \n",
       "Polydipsia                      0.0      0.0  0.0244     0.0  \n",
       "sudden weight loss           0.0123      0.0  0.0001     0.0  \n",
       "weakness                        0.0   0.0391  0.2986     0.0  \n",
       "Polyphagia                      0.0   0.2233   0.498     0.0  \n",
       "Genital thrush               0.0223      0.0  0.2204  0.0119  \n",
       "visual blurring                 0.0   0.7397  0.0129     0.0  \n",
       "Itching                         0.0      0.0  0.9656  0.7608  \n",
       "Irritability                    0.0   0.3198  0.0035     0.0  \n",
       "delayed healing                 0.0      0.0  0.1308  0.2849  \n",
       "partial paresis                 0.0      0.0  0.8306     0.0  \n",
       "muscle stiffness                0.0   0.3536  0.0003  0.0052  \n",
       "Alopecia                     0.3536      0.0   0.506     0.0  \n",
       "Obesity                      0.0003    0.506     0.0  0.1002  \n",
       "class                        0.0052      0.0  0.1002     0.0  "
      ]
     },
     "execution_count": 23,
     "metadata": {},
     "output_type": "execute_result"
    }
   ],
   "source": [
    "# calculate pvalues (toto_tico, 2017)\n",
    "from scipy.stats import pearsonr\n",
    "import pandas as pd\n",
    "\n",
    "def calculate_pvalues(df):\n",
    "    dfcols = pd.DataFrame(columns=df.columns)\n",
    "    pvalues = dfcols.transpose().join(dfcols, how='outer')\n",
    "    for r in df.columns:\n",
    "        for c in df.columns:\n",
    "            tmp = df[df[r].notnull() & df[c].notnull()]\n",
    "            pvalues[r][c] = round(pearsonr(tmp[r], tmp[c])[1], 4)\n",
    "    return pvalues\n",
    "\n",
    "calculate_pvalues(df)"
   ]
  },
  {
   "cell_type": "markdown",
   "id": "d83dd887",
   "metadata": {},
   "source": [
    "From the above table, we'll focus on the p-values between target class and features. All p-values lower than 0.05 are statistically significant, whereas all above 0.05 are of weak evidence. Viewing the table above, poorly relevant features for predicting the target class are the features Itching (with a value of 0.7608), delayed healing (with a value of 0.2849) and Obesity (with a value of 0.1002). Therefore, they will be dropped."
   ]
  },
  {
   "cell_type": "code",
   "execution_count": 24,
   "id": "e7abefb3",
   "metadata": {},
   "outputs": [],
   "source": [
    "df = df.drop(['Itching', 'delayed healing','Obesity'], axis=1)"
   ]
  },
  {
   "cell_type": "markdown",
   "id": "7c938880",
   "metadata": {},
   "source": [
    "# Modelling/Classification"
   ]
  },
  {
   "cell_type": "code",
   "execution_count": 25,
   "id": "183e0630",
   "metadata": {},
   "outputs": [],
   "source": [
    "# import required libraries (sklearn for ML models)\n",
    "from sklearn.linear_model import LinearRegression\n",
    "from sklearn.model_selection import train_test_split\n",
    "from sklearn.metrics import accuracy_score"
   ]
  },
  {
   "cell_type": "markdown",
   "id": "978e5c8f",
   "metadata": {},
   "source": [
    "## Splitting data"
   ]
  },
  {
   "cell_type": "markdown",
   "id": "a54c2899",
   "metadata": {},
   "source": [
    "### Prepare Features and Target Variables"
   ]
  },
  {
   "cell_type": "code",
   "execution_count": 26,
   "id": "ab1658b1",
   "metadata": {},
   "outputs": [
    {
     "name": "stdout",
     "output_type": "stream",
     "text": [
      "Type of X:  <class 'pandas.core.frame.DataFrame'>\n",
      "Type of y:  <class 'pandas.core.series.Series'>\n"
     ]
    }
   ],
   "source": [
    "# store the input features\n",
    "X = df.drop('class', axis = 1)\n",
    "\n",
    "# store the label column into y variable\n",
    "y = df['class']\n",
    "\n",
    "# check the type of X, y\n",
    "print('Type of X: ', type(X))\n",
    "print('Type of y: ', type(y))"
   ]
  },
  {
   "cell_type": "markdown",
   "id": "cdb50c3f",
   "metadata": {},
   "source": [
    "### Split Data"
   ]
  },
  {
   "cell_type": "markdown",
   "id": "dc7f37e9",
   "metadata": {},
   "source": [
    "The dataset should be split into training and test sets with the ratio of 80% training set and 20% test set. This division split of training and test data intends to be ideal."
   ]
  },
  {
   "cell_type": "code",
   "execution_count": 27,
   "id": "84c4b9b4",
   "metadata": {},
   "outputs": [
    {
     "name": "stdout",
     "output_type": "stream",
     "text": [
      "There are 416 elements trained.\n",
      "There are 104 elements tested.\n"
     ]
    }
   ],
   "source": [
    "# Split data\n",
    "X_train, X_test, y_train, y_test = train_test_split(X, y, test_size=0.20, random_state=0)\n",
    "print(f'There are {len(X_train)} elements trained.')\n",
    "print(f'There are {len(X_test)} elements tested.')"
   ]
  },
  {
   "cell_type": "markdown",
   "id": "6c1181f7",
   "metadata": {},
   "source": [
    "Data is split to be able to test the trained data."
   ]
  },
  {
   "cell_type": "markdown",
   "id": "55da14d8",
   "metadata": {},
   "source": [
    "### Class Distribution"
   ]
  },
  {
   "cell_type": "markdown",
   "id": "1b3016c5",
   "metadata": {},
   "source": [
    "In the following step, we check the class distribution in both training and testing set."
   ]
  },
  {
   "cell_type": "code",
   "execution_count": 28,
   "id": "de60fa63",
   "metadata": {},
   "outputs": [
    {
     "data": {
      "text/plain": [
       "1    0.615385\n",
       "0    0.384615\n",
       "Name: class, dtype: float64"
      ]
     },
     "execution_count": 28,
     "metadata": {},
     "output_type": "execute_result"
    }
   ],
   "source": [
    "# get numbers of class distribution in trained dataset\n",
    "y_train.value_counts(normalize=True)"
   ]
  },
  {
   "cell_type": "code",
   "execution_count": 29,
   "id": "95021725",
   "metadata": {},
   "outputs": [
    {
     "data": {
      "text/plain": [
       "1    0.615385\n",
       "0    0.384615\n",
       "Name: class, dtype: float64"
      ]
     },
     "execution_count": 29,
     "metadata": {},
     "output_type": "execute_result"
    }
   ],
   "source": [
    "# get numbers of class distribution in tested dataset\n",
    "y_test.value_counts(normalize=True)"
   ]
  },
  {
   "cell_type": "markdown",
   "id": "a568318a",
   "metadata": {},
   "source": [
    "The distribution of the class variable is the same in both sets, so it is well distributed."
   ]
  },
  {
   "cell_type": "markdown",
   "id": "89179ebf",
   "metadata": {},
   "source": [
    "## Logistic Regression Model"
   ]
  },
  {
   "cell_type": "markdown",
   "id": "fd74e337",
   "metadata": {},
   "source": [
    "As Logistic Regression is commonly used for prediction and classification problems, we will use this model. It predicts a binary outcome based on a series of independent variables. In our project, this means predicting whether you would have early-stage diabetes or not. Logistic Regression analysis is valuable for predicting the likelihood of an event."
   ]
  },
  {
   "cell_type": "markdown",
   "id": "42a32e8a",
   "metadata": {},
   "source": [
    "### Create & Fit the model"
   ]
  },
  {
   "cell_type": "code",
   "execution_count": 30,
   "id": "77d36f09",
   "metadata": {},
   "outputs": [
    {
     "data": {
      "text/plain": [
       "LogisticRegression(max_iter=3000)"
      ]
     },
     "execution_count": 30,
     "metadata": {},
     "output_type": "execute_result"
    }
   ],
   "source": [
    "# create & fit data into the Model\n",
    "from sklearn.linear_model import LogisticRegression\n",
    "lg_model = LogisticRegression(solver='lbfgs',max_iter=3000)\n",
    "lg_model.fit(X_train,y_train)"
   ]
  },
  {
   "cell_type": "markdown",
   "id": "d81c2c2d",
   "metadata": {},
   "source": [
    "### Predicted vs Actual Values"
   ]
  },
  {
   "cell_type": "code",
   "execution_count": 31,
   "id": "590431e3",
   "metadata": {},
   "outputs": [
    {
     "name": "stdout",
     "output_type": "stream",
     "text": [
      "Predicted values: Counter({1: 65, 0: 39})\n",
      "Actual values: Counter({1: 64, 0: 40})\n"
     ]
    }
   ],
   "source": [
    "# predicted values\n",
    "y_pred = lg_model.predict(X_test)\n",
    "# actual values\n",
    "actual = y_test\n",
    "from collections import Counter\n",
    "print(f'Predicted values: {Counter(y_pred)}')\n",
    "print(f'Actual values: {Counter(y_test)}')"
   ]
  },
  {
   "cell_type": "markdown",
   "id": "e22a574e",
   "metadata": {},
   "source": [
    "Of the 104 testing data units, the model predicted 65 with and 39 without diabetes. The actual values are 64 with and 40 without diabetes which is very close to the model's prediction."
   ]
  },
  {
   "cell_type": "markdown",
   "id": "65320afa",
   "metadata": {},
   "source": [
    "### Correct vs Incorrect Predicted"
   ]
  },
  {
   "cell_type": "code",
   "execution_count": 32,
   "id": "d997ac6a",
   "metadata": {},
   "outputs": [],
   "source": [
    "# create a dictionary and a data frame and check correct predictions\n",
    "dic = {'Actual':actual,\n",
    "'Prediction':y_pred,\n",
    "'correct_prediction':0\n",
    "}\n",
    "result = pd.DataFrame(dic)"
   ]
  },
  {
   "cell_type": "code",
   "execution_count": 33,
   "id": "6777ac74",
   "metadata": {},
   "outputs": [
    {
     "name": "stdout",
     "output_type": "stream",
     "text": [
      " Correct predicted: 99; Incorrect predicted: 5\n"
     ]
    }
   ],
   "source": [
    "# update the correct_prediction values to 1, if correct prediction\n",
    "def myfunc(x,y):\n",
    "    if x == y:\n",
    "        return 1\n",
    "    else:\n",
    "        return 0\n",
    "result['correct_prediction'] = result.apply(lambda x: myfunc(x.Actual, x.Prediction), axis=1)\n",
    "# Correct & incorrect predictions\n",
    "incorrect = result[result.correct_prediction==0]\n",
    "correct = result[result.correct_prediction==1]\n",
    "print(f' Correct predicted: {len(correct)}; Incorrect predicted: {len(incorrect)}')"
   ]
  },
  {
   "cell_type": "markdown",
   "id": "bdf1a33d",
   "metadata": {},
   "source": [
    "The model predicted 99 of the testing data correct in having diabetes or not, and 5 incorrect."
   ]
  },
  {
   "cell_type": "markdown",
   "id": "8741d81c",
   "metadata": {},
   "source": [
    "### Accuracy of the Model"
   ]
  },
  {
   "cell_type": "code",
   "execution_count": 34,
   "id": "4d9c49b0",
   "metadata": {
    "scrolled": true
   },
   "outputs": [
    {
     "name": "stdout",
     "output_type": "stream",
     "text": [
      "The Model Accuracy on the testing set is 0.9519\n"
     ]
    }
   ],
   "source": [
    "# get Accuracy of Model\n",
    "print(f'The Model Accuracy on the testing set is {round((accuracy_score(y_test,y_pred)),4)}')"
   ]
  },
  {
   "cell_type": "markdown",
   "id": "d3532a31",
   "metadata": {},
   "source": [
    "### Metrics of the Model"
   ]
  },
  {
   "cell_type": "code",
   "execution_count": 35,
   "id": "80c11f68",
   "metadata": {},
   "outputs": [
    {
     "name": "stdout",
     "output_type": "stream",
     "text": [
      "              precision    recall  f1-score   support\n",
      "\n",
      "           0       0.95      0.93      0.94        40\n",
      "           1       0.95      0.97      0.96        64\n",
      "\n",
      "    accuracy                           0.95       104\n",
      "   macro avg       0.95      0.95      0.95       104\n",
      "weighted avg       0.95      0.95      0.95       104\n",
      "\n"
     ]
    }
   ],
   "source": [
    "# print metrics such as precision, recall and f1-score\n",
    "from sklearn.metrics import classification_report\n",
    "print(classification_report(y_test,y_pred))"
   ]
  },
  {
   "cell_type": "markdown",
   "id": "2e505a66",
   "metadata": {},
   "source": [
    "The classification report of the model above shows that 95% were predicted true positive (presence of diabetes) and 95% were predicted true negative (absence of diabetes)."
   ]
  },
  {
   "cell_type": "markdown",
   "id": "5a51fb3a",
   "metadata": {},
   "source": [
    "### Confusion Matrix"
   ]
  },
  {
   "cell_type": "code",
   "execution_count": 36,
   "id": "60c24f8c",
   "metadata": {},
   "outputs": [
    {
     "data": {
      "image/png": "[encoded data removed]",
      "text/plain": [
       "<Figure size 504x360 with 2 Axes>"
      ]
     },
     "metadata": {},
     "output_type": "display_data"
    }
   ],
   "source": [
    "# display useful metric\n",
    "from sklearn.metrics import confusion_matrix\n",
    "fig, ax = plt.subplots(figsize=(7,5))\n",
    "ax = sns.heatmap(confusion_matrix(y_test, y_pred),annot=True,fmt='d')\n",
    "ax.set_ylim([2,0])\n",
    "plt.ylabel('Actual')\n",
    "plt.xlabel('Predicted');"
   ]
  },
  {
   "cell_type": "markdown",
   "id": "c06f0a79",
   "metadata": {},
   "source": [
    "Explanation of Confusion Matrix above: With the implemented model and testing data, it turned out to be 62 true positive values and 37 true negative values. And the false positive came out to be 2 and false negative is 3. "
   ]
  },
  {
   "cell_type": "markdown",
   "id": "9fa12a51",
   "metadata": {},
   "source": [
    "### Normalised confusion matrix"
   ]
  },
  {
   "cell_type": "code",
   "execution_count": 37,
   "id": "03ed6566",
   "metadata": {},
   "outputs": [
    {
     "data": {
      "image/png": "[encoded data removed]",
      "text/plain": [
       "<Figure size 504x360 with 2 Axes>"
      ]
     },
     "metadata": {},
     "output_type": "display_data"
    }
   ],
   "source": [
    "import numpy as np\n",
    "# display normalized metric\n",
    "cm = confusion_matrix(y_test, y_pred)\n",
    "# Normalise\n",
    "cmn = cm.astype('float') / cm.sum(axis=1)[:, np.newaxis]\n",
    "fig, ax = plt.subplots(figsize=(7,5))\n",
    "sns.heatmap(cmn, annot=True, fmt='.2f')\n",
    "plt.ylabel('Actual')\n",
    "plt.xlabel('Predicted')\n",
    "plt.show(block=False)"
   ]
  },
  {
   "cell_type": "markdown",
   "id": "2a244cd3",
   "metadata": {},
   "source": [
    "A normalised matrix helps to easier visualize and interpret results. The matrix above shows 93% true Positive values and 97% true Negative values. False Positive is 7% and False Negative is 3%. This means that 93% of diabetics were correctly diagnosed and 97% of actual non-diabetics were correctly not diagnosed. 7% were diagnosed with diabetes, but do not have it. 3% participants were not diagnosed but have diabetes."
   ]
  },
  {
   "cell_type": "markdown",
   "id": "4097ddc9",
   "metadata": {},
   "source": [
    "# Solution Improvement"
   ]
  },
  {
   "cell_type": "markdown",
   "id": "527544c2",
   "metadata": {},
   "source": [
    "## Improve Model"
   ]
  },
  {
   "cell_type": "markdown",
   "id": "7f80110d",
   "metadata": {},
   "source": [
    "To improve the present model, there are various options one can apply."
   ]
  },
  {
   "cell_type": "markdown",
   "id": "c570c188",
   "metadata": {},
   "source": [
    "### Feature Selection"
   ]
  },
  {
   "cell_type": "markdown",
   "id": "f930ae53",
   "metadata": {},
   "source": [
    "In the following, we want to apply more feature selection methods to drop irrelevant columns for our model. First, the importance of the different features will be demonstrated in the below graph."
   ]
  },
  {
   "cell_type": "code",
   "execution_count": 38,
   "id": "268aa37d",
   "metadata": {},
   "outputs": [],
   "source": [
    "# feature selection method (Brownlee Jason, 2020a)\n",
    "def select_features(X_train, y_train, X_test):\n",
    " # configure to select all features\n",
    " fs = SelectKBest(score_func=f_classif, k='all')\n",
    " # learn relationship from training data\n",
    " fs.fit(X_train, y_train)\n",
    " # transform train input data\n",
    " X_train_fs = fs.transform(X_train)\n",
    " # transform test input data\n",
    " X_test_fs = fs.transform(X_test)\n",
    " return X_train_fs, X_test_fs, fs"
   ]
  },
  {
   "cell_type": "code",
   "execution_count": 39,
   "id": "05cc1a81",
   "metadata": {
    "scrolled": true
   },
   "outputs": [
    {
     "data": {
      "image/png": "[encoded data removed]",
      "text/plain": [
       "<Figure size 504x360 with 1 Axes>"
      ]
     },
     "metadata": {},
     "output_type": "display_data"
    }
   ],
   "source": [
    "from sklearn.feature_selection import SelectKBest\n",
    "from sklearn.feature_selection import f_classif\n",
    "from matplotlib import pyplot\n",
    "X_train_fs, X_test_fs, fs = select_features(X_train, y_train, X_test)\n",
    "# plot the scores\n",
    "pyplot.bar([i for i in range(len(fs.scores_))], fs.scores_)\n",
    "pyplot.show()"
   ]
  },
  {
   "cell_type": "markdown",
   "id": "f637be41",
   "metadata": {},
   "source": [
    "The graph above demonstrates the importance of the different features for the target class prediction. It shows that there are three columns that are irrelevant for our model. Therefore, we will drop these three by selecting the ten best columns."
   ]
  },
  {
   "cell_type": "code",
   "execution_count": 40,
   "id": "d4b52c25",
   "metadata": {
    "scrolled": true
   },
   "outputs": [
    {
     "name": "stdout",
     "output_type": "stream",
     "text": [
      "Remaining columns: Index(['Age', 'Gender', 'Polyuria', 'Polydipsia', 'sudden weight loss',\n",
      "       'Polyphagia', 'visual blurring', 'Irritability', 'partial paresis',\n",
      "       'Alopecia'],\n",
      "      dtype='object')\n"
     ]
    }
   ],
   "source": [
    "# select the 10 most important features\n",
    "from sklearn.feature_selection import mutual_info_classif\n",
    "from sklearn.feature_selection import SelectKBest\n",
    "\n",
    "sel_ten_cols = SelectKBest(mutual_info_classif, k=10)\n",
    "sel_ten_cols.fit(X_train, y_train)\n",
    "print('Remaining columns:', X_train.columns[sel_ten_cols.get_support()])"
   ]
  },
  {
   "cell_type": "code",
   "execution_count": 41,
   "id": "f96758b6",
   "metadata": {},
   "outputs": [],
   "source": [
    "# drop irrelevant features from training and testing set\n",
    "X_train = X_train.drop(['weakness','visual blurring','muscle stiffness'], axis=1)\n",
    "X_test = X_test.drop(['weakness','visual blurring','muscle stiffness'], axis=1)"
   ]
  },
  {
   "cell_type": "code",
   "execution_count": 42,
   "id": "bc8e1c4f",
   "metadata": {},
   "outputs": [
    {
     "name": "stdout",
     "output_type": "stream",
     "text": [
      "The Model Accuracy on the training set is 0.9255\n",
      "The Model Accuracy on the testing set is 0.9519\n"
     ]
    }
   ],
   "source": [
    "# get model & accuracy with dropped columns\n",
    "lg_model = LogisticRegression(solver='lbfgs',max_iter=3000)\n",
    "lg_model.fit(X_train,y_train)\n",
    "y_pred = lg_model.predict(X_test)\n",
    "y_train_pred = lg_model.predict(X_train)\n",
    "print(f'The Model Accuracy on the training set is {round((accuracy_score(y_train, y_train_pred)),4)}')\n",
    "print(f'The Model Accuracy on the testing set is {round((accuracy_score(y_test,y_pred)),4)}')"
   ]
  },
  {
   "cell_type": "markdown",
   "id": "0000315f",
   "metadata": {},
   "source": [
    "After dropping the three irrelevant columns, the model's accuracy evidently didn't change. Dropping irrelevant columns makes it easier to focus on the remaining columns. With this model, the ten remaining columns (shown above) suffice for predicting the class value. A large number of features can make training slow and makes it difficult to find good results. This model is effective with ten columns and a remaining accuracy of 95.19%. At this point, raising the accuracy much further might be overfitting the model. In fact, it might be already overfitting.\n",
    "\n",
    "As observed, the testing accuracy (of 95.19%) is slightly higher than the training accuracy (of  92.31%), although the difference between the two is relatively small. A large difference might indicate underfitting your model."
   ]
  },
  {
   "cell_type": "markdown",
   "id": "fcc0422d",
   "metadata": {},
   "source": [
    "### Parameter Fine Tuning"
   ]
  },
  {
   "cell_type": "code",
   "execution_count": 43,
   "id": "eabf9491",
   "metadata": {},
   "outputs": [
    {
     "name": "stdout",
     "output_type": "stream",
     "text": [
      "Best Parameters: {'C': 100, 'max_iter': 100, 'penalty': 'l2', 'solver': 'newton-cg'}\n"
     ]
    }
   ],
   "source": [
    "# grid searching key hyperparametres for our Logistic Regression Model\n",
    "from sklearn.datasets import make_blobs\n",
    "from sklearn.model_selection import RepeatedStratifiedKFold\n",
    "from sklearn.model_selection import GridSearchCV\n",
    "\n",
    "# define parameters for fine tuning\n",
    "solvers = ['newton-cg', 'lbfgs', 'liblinear']\n",
    "penalty = ['l2']\n",
    "c_values = [100,10,1.0,0.1,0.01]\n",
    "max_iters = [1,10,100,100,1000,3000]\n",
    "\n",
    "# define grid search\n",
    "parameters = dict(solver=solvers,penalty=penalty,C=c_values, max_iter=max_iters)\n",
    "grid_model = GridSearchCV(estimator=lg_model, param_grid=parameters, n_jobs=-1, scoring='accuracy',error_score=0)\n",
    "grid_result = grid_model.fit(X_train, y_train)\n",
    "\n",
    "# get best parameter combination\n",
    "print('Best Parameters: %s' % (grid_result.best_params_))"
   ]
  },
  {
   "cell_type": "code",
   "execution_count": 44,
   "id": "dfb21e91",
   "metadata": {},
   "outputs": [
    {
     "name": "stdout",
     "output_type": "stream",
     "text": [
      "The Model Accuracy on the testing set is 0.9519\n"
     ]
    }
   ],
   "source": [
    "# get model & accuracy with fine tuned parametes\n",
    "lg_model = LogisticRegression(solver='newton-cg', max_iter=100, C=100, penalty='l2')\n",
    "lg_model.fit(X_train,y_train)\n",
    "y_pred = lg_model.predict(X_test)\n",
    "print(f'The Model Accuracy on the testing set is {round((accuracy_score(y_test,y_pred)),4)}')"
   ]
  },
  {
   "cell_type": "markdown",
   "id": "ad3a030a",
   "metadata": {},
   "source": [
    "Fine tuning can potentially increment improvement, however the model's accuracy didn't improve."
   ]
  },
  {
   "cell_type": "markdown",
   "id": "fb2049b3",
   "metadata": {},
   "source": [
    "### Predicted Error"
   ]
  },
  {
   "cell_type": "code",
   "execution_count": 45,
   "id": "a379cf7d",
   "metadata": {},
   "outputs": [
    {
     "data": {
      "image/png": "[encoded data removed]",
      "text/plain": [
       "<Figure size 360x216 with 1 Axes>"
      ]
     },
     "metadata": {},
     "output_type": "display_data"
    },
    {
     "data": {
      "text/plain": [
       "<AxesSubplot:title={'center':'Class Prediction Error for LogisticRegression'}, xlabel='actual class', ylabel='number of predicted class'>"
      ]
     },
     "execution_count": 45,
     "metadata": {},
     "output_type": "execute_result"
    }
   ],
   "source": [
    "# get prediction error graph for our Logistic Regression Model\n",
    "from yellowbrick.classifier import ClassPredictionError\n",
    "import warnings\n",
    "\n",
    "# hide warnings\n",
    "warnings.filterwarnings(\"ignore\")\n",
    "\n",
    "# create Class Prediction Error figure\n",
    "fig = ClassPredictionError(lg_model)\n",
    "plt.figure(figsize=(5,3))\n",
    "\n",
    "# fit training data to the figure\n",
    "fig.fit(X_train, y_train)\n",
    "\n",
    "# evaluate model on testing data\n",
    "fig.score(X_test, y_test)\n",
    "fig.show()"
   ]
  },
  {
   "cell_type": "markdown",
   "id": "8a323708",
   "metadata": {},
   "source": [
    "The above chart demonstrates how good our classifier is at predicting the right class values. It shows the prediction error and refers to the difference between the predicted values made by the model and the actual values. Of the 104 tested rows, almost all positive and negative outcomes were predicted correctly. As our model would function as a pre-diagnose and not actual diagnose, most important is to keep false negative values as low as possible."
   ]
  },
  {
   "cell_type": "markdown",
   "id": "f9c8b227",
   "metadata": {},
   "source": [
    "### Bias & Variance"
   ]
  },
  {
   "cell_type": "code",
   "execution_count": 46,
   "id": "a0bce2be",
   "metadata": {},
   "outputs": [
    {
     "name": "stdout",
     "output_type": "stream",
     "text": [
      "Mean Square Error (MSE): 0.061\n",
      "Avg Bias: 0.047\n",
      "Avg Variance: 0.014\n"
     ]
    }
   ],
   "source": [
    "# calculate bias & variance of the model\n",
    "from mlxtend.evaluate import bias_variance_decomp\n",
    "from sklearn.linear_model import Lasso\n",
    "from sklearn.datasets import load_boston\n",
    "\n",
    "# estimate bias and variance using bias_variance_decomp \n",
    "mse, bias, var = bias_variance_decomp(lg_model, X_train.values, y_train.values, X_test.values, y_test.values, loss='mse', num_rounds=200, random_seed=123)\n",
    "y_pred=lg_model.predict(X_test)\n",
    "\n",
    "# summarize results\n",
    "print(f'Mean Square Error (MSE): {round(mse,3)}')\n",
    "print(f'Avg Bias: {round(bias,3)}')\n",
    "print(f'Avg Variance: {round(var,3)}')"
   ]
  },
  {
   "cell_type": "markdown",
   "id": "bc043e2f",
   "metadata": {},
   "source": [
    "With the information above, we can see that the model has a high bias and a low variance. This is to be expected given that we are using a linear regression model. We can also see that the sum of the estimated mean and variance equals the estimated error of the model, e.g. 0.047 + 0.014 = 0.061. (Brownlee Jason, 2020b)"
   ]
  },
  {
   "cell_type": "markdown",
   "id": "53daca0a",
   "metadata": {},
   "source": [
    "## Different Models"
   ]
  },
  {
   "cell_type": "markdown",
   "id": "324d013e",
   "metadata": {},
   "source": [
    "The Logistic Regression model reached an accuracy of 95.19% which is already excellent accuracy. An accuracy greater than that might be overfitting. However, in the following section, we want to try out another kind of model."
   ]
  },
  {
   "cell_type": "markdown",
   "id": "b162f034",
   "metadata": {},
   "source": [
    "### Decision Tree"
   ]
  },
  {
   "cell_type": "markdown",
   "id": "77c5e4f6",
   "metadata": {},
   "source": [
    "Decision trees are extremely useful for data analytics and machine learning because they break down complex data into more manageable parts. They're often used in these fields for prediction analysis, data classification, and regression. (Hiller Will, 2021)"
   ]
  },
  {
   "cell_type": "markdown",
   "id": "bd423736",
   "metadata": {},
   "source": [
    "#### Create & Fit Model"
   ]
  },
  {
   "cell_type": "code",
   "execution_count": 47,
   "id": "7b1e68fe",
   "metadata": {
    "scrolled": true
   },
   "outputs": [
    {
     "name": "stdout",
     "output_type": "stream",
     "text": [
      "The Model Accuracy is 89.42%\n"
     ]
    }
   ],
   "source": [
    "from sklearn import tree\n",
    "# create instance of the Decision Tree model\n",
    "clf = tree.DecisionTreeClassifier(max_depth = 2, random_state = 0)\n",
    "\n",
    "# train model\n",
    "clf.fit(X_train, y_train)\n",
    "\n",
    "# Get model's accuracy\n",
    "accuracy = clf.score(X_test, y_test)\n",
    "print(f'The Model Accuracy is {round(accuracy*100,2)}%')"
   ]
  },
  {
   "cell_type": "markdown",
   "id": "5a3310a6",
   "metadata": {},
   "source": [
    "The Decision Tree model has an accuracy of 89.42% which is already a pretty good accuracy. In the next step, we will try to find the best max depth for the model."
   ]
  },
  {
   "cell_type": "markdown",
   "id": "069a522b",
   "metadata": {},
   "source": [
    "#### Find best maximum depth"
   ]
  },
  {
   "cell_type": "code",
   "execution_count": 48,
   "id": "e6270ae4",
   "metadata": {},
   "outputs": [
    {
     "data": {
      "text/html": [
       "<div>\n",
       "<style scoped>\n",
       "    .dataframe tbody tr th:only-of-type {\n",
       "        vertical-align: middle;\n",
       "    }\n",
       "\n",
       "    .dataframe tbody tr th {\n",
       "        vertical-align: top;\n",
       "    }\n",
       "\n",
       "    .dataframe thead th {\n",
       "        text-align: right;\n",
       "    }\n",
       "</style>\n",
       "<table border=\"1\" class=\"dataframe\">\n",
       "  <thead>\n",
       "    <tr style=\"text-align: right;\">\n",
       "      <th></th>\n",
       "      <th>max_depth</th>\n",
       "      <th>accuracy</th>\n",
       "    </tr>\n",
       "  </thead>\n",
       "  <tbody>\n",
       "    <tr>\n",
       "      <th>0</th>\n",
       "      <td>1</td>\n",
       "      <td>0.836538</td>\n",
       "    </tr>\n",
       "    <tr>\n",
       "      <th>1</th>\n",
       "      <td>2</td>\n",
       "      <td>0.894231</td>\n",
       "    </tr>\n",
       "    <tr>\n",
       "      <th>2</th>\n",
       "      <td>3</td>\n",
       "      <td>0.942308</td>\n",
       "    </tr>\n",
       "    <tr>\n",
       "      <th>3</th>\n",
       "      <td>4</td>\n",
       "      <td>0.932692</td>\n",
       "    </tr>\n",
       "    <tr>\n",
       "      <th>4</th>\n",
       "      <td>5</td>\n",
       "      <td>0.961538</td>\n",
       "    </tr>\n",
       "    <tr>\n",
       "      <th>5</th>\n",
       "      <td>6</td>\n",
       "      <td>0.961538</td>\n",
       "    </tr>\n",
       "    <tr>\n",
       "      <th>6</th>\n",
       "      <td>7</td>\n",
       "      <td>0.980769</td>\n",
       "    </tr>\n",
       "    <tr>\n",
       "      <th>7</th>\n",
       "      <td>8</td>\n",
       "      <td>0.971154</td>\n",
       "    </tr>\n",
       "    <tr>\n",
       "      <th>8</th>\n",
       "      <td>9</td>\n",
       "      <td>0.980769</td>\n",
       "    </tr>\n",
       "    <tr>\n",
       "      <th>9</th>\n",
       "      <td>10</td>\n",
       "      <td>0.980769</td>\n",
       "    </tr>\n",
       "    <tr>\n",
       "      <th>10</th>\n",
       "      <td>11</td>\n",
       "      <td>0.980769</td>\n",
       "    </tr>\n",
       "  </tbody>\n",
       "</table>\n",
       "</div>"
      ],
      "text/plain": [
       "    max_depth  accuracy\n",
       "0           1  0.836538\n",
       "1           2  0.894231\n",
       "2           3  0.942308\n",
       "3           4  0.932692\n",
       "4           5  0.961538\n",
       "5           6  0.961538\n",
       "6           7  0.980769\n",
       "7           8  0.971154\n",
       "8           9  0.980769\n",
       "9          10  0.980769\n",
       "10         11  0.980769"
      ]
     },
     "execution_count": 48,
     "metadata": {},
     "output_type": "execute_result"
    }
   ],
   "source": [
    "# Try various values for depth:\n",
    "max_depth_vals = list(range(1, 12))\n",
    "\n",
    "# List to store the accuracy for each model with different max depth\n",
    "accuracy_list = []\n",
    "\n",
    "# Different max depth values\n",
    "for max_depth in max_depth_vals:\n",
    "    # create the model with specific max depth\n",
    "    clf = tree.DecisionTreeClassifier(max_depth = max_depth, random_state = 0)\n",
    "    # fit the data\n",
    "    clf.fit(X_train, y_train)\n",
    "    # get accuracy and store it in the list accuracy\n",
    "    accuracy = clf.score(X_test, y_test)\n",
    "    accuracy_list.append(accuracy)\n",
    "\n",
    "# create list of tuples (pairs of depth and accuracy)\n",
    "depth_accuracies = list(zip(max_depth_vals,accuracy_list))\n",
    "# create a data frame\n",
    "results = pd.DataFrame(data=depth_accuracies, columns=['max_depth','accuracy'])\n",
    "results"
   ]
  },
  {
   "cell_type": "markdown",
   "id": "14ae7ba4",
   "metadata": {},
   "source": [
    "The frame above shows that the model will have a higher accuracy with a max depth of 7. Therefore, the depth of the model will be changed to 7."
   ]
  },
  {
   "cell_type": "code",
   "execution_count": 49,
   "id": "62e04093",
   "metadata": {},
   "outputs": [
    {
     "name": "stdout",
     "output_type": "stream",
     "text": [
      "The Model Accuracy on the testing set is 98.08%\n",
      "The Model Accuracy on the training set is 99.52%\n"
     ]
    }
   ],
   "source": [
    "# reset & fit model with max_depth=7\n",
    "clf = tree.DecisionTreeClassifier(max_depth = 7, random_state = 0)\n",
    "clf.fit(X_train, y_train)\n",
    "\n",
    "# get the model's accuracy\n",
    "accuracy = clf.score(X_test, y_test)\n",
    "accuracy_train = clf.score(X_train, y_train)\n",
    "print(f'The Model Accuracy on the testing set is {round(accuracy*100,2)}%')\n",
    "print(f'The Model Accuracy on the training set is {round(accuracy_train*100,2)}%')"
   ]
  },
  {
   "cell_type": "markdown",
   "id": "fc23b288",
   "metadata": {},
   "source": [
    "With a depth of 7, the model has a testing accuracy of 98.08%. Since the table above and the graph below show that the best accuracy for the model is when the parameter max_depth is greater than or equal to 7, it might be best to choose the least complicated model with max_depth = 7. The higher the depth, the more complex our model gets. If max_depth is too high, then the decision tree might simply overfit the training data without capturing useful patterns as we would like; this will cause testing error to increase. (chn, 2018)\n",
    "\n",
    "As observed, the training accuracy (of 99.52%) and training accuracy (of  98.08%) are pretty close."
   ]
  },
  {
   "cell_type": "markdown",
   "id": "925260de",
   "metadata": {},
   "source": [
    "#### Maximum depth stages visualized"
   ]
  },
  {
   "cell_type": "code",
   "execution_count": 50,
   "id": "2292426d",
   "metadata": {},
   "outputs": [
    {
     "data": {
      "image/png": "[encoded data removed]",
      "text/plain": [
       "<Figure size 576x396 with 1 Axes>"
      ]
     },
     "metadata": {},
     "output_type": "display_data"
    }
   ],
   "source": [
    "# visualize the max depth stages and accompagnying accuracy\n",
    "ax = sns.lineplot(x='max_depth', y='accuracy', data=results, marker='o')\n",
    "ax.set(xlabel='Tree Depth', ylabel='Accuracy')\n",
    "plt.show()"
   ]
  },
  {
   "cell_type": "markdown",
   "id": "98189039",
   "metadata": {},
   "source": [
    "The graph above shows how the accuracy of the model varies at the different maximum depth stages."
   ]
  },
  {
   "cell_type": "markdown",
   "id": "3c06cd81",
   "metadata": {},
   "source": [
    "#### Parameter Fine Tuning"
   ]
  },
  {
   "cell_type": "code",
   "execution_count": 51,
   "id": "a85881ba",
   "metadata": {},
   "outputs": [
    {
     "name": "stdout",
     "output_type": "stream",
     "text": [
      "Best Parameters: {'criterion': 'entropy', 'max_depth': 10, 'random_state': 1, 'splitter': 'random'}\n"
     ]
    }
   ],
   "source": [
    "# grid searching key hyperparametres for our Decision Tree Model (Brownlee Jason, 2019)\n",
    "\n",
    "# define parameters for fine tuning\n",
    "criterions = ['gini', 'entropy']\n",
    "splitters = ['best', 'random']\n",
    "max_depths = range(1,100)\n",
    "random_states = [0,1,2,3]\n",
    "\n",
    "# define grid search\n",
    "parameters = dict(criterion=criterions,splitter=splitters,max_depth=max_depths, random_state=random_states)\n",
    "grid_model = GridSearchCV(estimator=clf, param_grid=parameters, n_jobs=-1, scoring='accuracy',error_score=0)\n",
    "grid_result = grid_model.fit(X_train, y_train)\n",
    "\n",
    "# get best parameter combination\n",
    "print('Best Parameters: %s' % (grid_result.best_params_))"
   ]
  },
  {
   "cell_type": "code",
   "execution_count": 52,
   "id": "6738d77f",
   "metadata": {},
   "outputs": [
    {
     "name": "stdout",
     "output_type": "stream",
     "text": [
      "The Model Accuracy is 99.04%\n"
     ]
    }
   ],
   "source": [
    "# get model & accuracy with fine tuned parametes\n",
    "clf = tree.DecisionTreeClassifier(criterion='gini', max_depth = 10, splitter='random', random_state = 1)\n",
    "clf.fit(X_train, y_train)\n",
    "# get the model's accuracy\n",
    "accuracy = clf.score(X_test, y_test)\n",
    "accuracy_train = clf.score(X_train, y_train)\n",
    "print(f'The Model Accuracy is {round(accuracy*100,2)}%')"
   ]
  },
  {
   "cell_type": "markdown",
   "id": "da4d01fc",
   "metadata": {},
   "source": [
    "After fine tuning parameters, the model's accuracy improved to 99.04% with a maximal depth of 10, choosing the best random split and a random state of 1."
   ]
  },
  {
   "cell_type": "markdown",
   "id": "31318564",
   "metadata": {},
   "source": [
    "#### Bias & Variance"
   ]
  },
  {
   "cell_type": "code",
   "execution_count": 53,
   "id": "d27b4b6b",
   "metadata": {},
   "outputs": [
    {
     "name": "stdout",
     "output_type": "stream",
     "text": [
      "Mean Square Error (MSE): 0.037\n",
      "Avg Bias: 0.015\n",
      "Avg Variance: 0.022\n"
     ]
    }
   ],
   "source": [
    "# get bias and variance for our model\n",
    "# estimate bias and variance using bias_variance_decomp\n",
    "mse, bias, var = bias_variance_decomp(clf, X_train.values, y_train.values, X_test.values, y_test.values, loss='mse', num_rounds=200, random_seed=123)\n",
    "y_pred=clf.predict(X_test)\n",
    "# summarize results\n",
    "print(f'Mean Square Error (MSE): {round(mse,3)}')\n",
    "print(f'Avg Bias: {round(bias,3)}')\n",
    "print(f'Avg Variance: {round(var,3)}')"
   ]
  },
  {
   "cell_type": "markdown",
   "id": "d6130280",
   "metadata": {},
   "source": [
    "Expected of a Decision Tree model is a low bias and a high variance. Our model has a bias of 0.015 and variance of 0.022, that leads us to a estimated model error of 0.037."
   ]
  },
  {
   "cell_type": "markdown",
   "id": "4c1ccf2c",
   "metadata": {},
   "source": [
    "## Cross-Validation"
   ]
  },
  {
   "cell_type": "markdown",
   "id": "ad1ee8cf",
   "metadata": {},
   "source": [
    "Cross-validation is a primarily used method in applied machine learning to estimate the skill of a machine learning model on unseen data. (Brownlee Jason, 2020c)"
   ]
  },
  {
   "cell_type": "code",
   "execution_count": 54,
   "id": "f1322a36",
   "metadata": {},
   "outputs": [
    {
     "name": "stdout",
     "output_type": "stream",
     "text": [
      "Cross-Validation Scores are [0.86538462 0.88461538 0.92307692 0.90384615 0.96153846 0.96153846\n",
      " 0.76923077 0.92307692 0.94230769 0.96153846]\n",
      "Average Cross-Validation score :0.9096153846153847\n"
     ]
    }
   ],
   "source": [
    "# get class validation scores for our Logistic Regression Model\n",
    "from sklearn.model_selection import cross_val_score,KFold\n",
    "kf=KFold(n_splits=10)\n",
    "score=cross_val_score(lg_model,X,y,cv=kf)\n",
    "print('Cross-Validation Scores are {}'.format(score))\n",
    "print('Average Cross-Validation score :{}'.format(score.mean()))"
   ]
  },
  {
   "cell_type": "code",
   "execution_count": 55,
   "id": "cadcf5fd",
   "metadata": {},
   "outputs": [
    {
     "name": "stdout",
     "output_type": "stream",
     "text": [
      "Cross-Validation Scores are [0.96153846 0.94230769 0.96153846 0.96153846 0.80769231 1.\n",
      " 0.88461538 1.         0.98076923 0.98076923]\n",
      "Average Cross-Validation score :0.948076923076923\n"
     ]
    }
   ],
   "source": [
    "# get class validation scores for our Decision Tree Model\n",
    "from sklearn.model_selection import cross_val_score,KFold\n",
    "kf=KFold(n_splits=10)\n",
    "score=cross_val_score(clf,X,y,cv=kf)\n",
    "print('Cross-Validation Scores are {}'.format(score))\n",
    "print('Average Cross-Validation score :{}'.format(score.mean()))"
   ]
  },
  {
   "cell_type": "markdown",
   "id": "02761058",
   "metadata": {},
   "source": [
    "Comparing the average cross-validation scores of the two models, the Logistic Regression Model reached 90.96% whereas the Decision Tree Model reached 94.81%. These cross-validation scores help to estimate the model's performance in general when used to make predictions on data not used during the training of the model. (Brownlee Jason, 2020c)"
   ]
  },
  {
   "cell_type": "markdown",
   "id": "b0a12189",
   "metadata": {},
   "source": [
    "# Conclusion"
   ]
  },
  {
   "cell_type": "markdown",
   "id": "32abc20b",
   "metadata": {},
   "source": [
    "The aim of our model was to predict if a person has early-stage diabetes or not. By exploring the dataset, building and improving our model, we eventually reached an accuracy of 99.04%. With feature selection methods we were able to drop six features in total without decreasing the accuracy of the model. That leaves us with ten columns which is easier to work with. We trained a Logistic Regression model and reached an accuracy of 95.19%. However, the Decision Tree model trained with a maximum depth of 10 reached an accuracy of 99.04%. As well, the Decision Tree model has a lower estimated error then the Regression model. With a high accuracy, there is a possibility of overfitting. Hence, additional testing on real-world data would further confirm the model's performance."
   ]
  },
  {
   "cell_type": "markdown",
   "id": "7dea4d82",
   "metadata": {},
   "source": [
    "# List of References"
   ]
  },
  {
   "cell_type": "markdown",
   "id": "5662f658",
   "metadata": {},
   "source": [
    "Brownlee Jason, 2019. Machine Learning Mastery, Available at: https://machinelearningmastery.com/hyperparameters-for-classification-machine-learning-algorithms/\n",
    "\n",
    "Brownlee Jason, 2020a. Machine Learning Mastery, Available at: https://machinelearningmastery.com/feature-selection-with-numerical-input-data/\n",
    "\n",
    "Brownlee Jason, 2020b. Machine Learning Mastery, Available at: https://machinelearningmastery.com/calculate-the-bias-variance-trade-off/\n",
    "\n",
    "Brownlee Jason, 2020c. Machine Learning Mastery, Available at: https://machinelearningmastery.com/how-to-configure-k-fold-cross-validation/\n",
    "\n",
    "chn, 2018. Stack overflow. Available at: https://stackoverflow.com/questions/49289187/decision-tree-sklearn-depth-of-tree-and-accuracy\n",
    "\n",
    "Elsayed N., ElSayed Z., Ozer M., 2022: Early Stage Diabetes Prediction via Extreme Learning Machine, University of Cincinnati (Research Paper)\n",
    "\n",
    "Hiller Will, 2021: What is a decision tree model and how is it used? Careerfoundry, Available at: https://careerfoundry.com/en/blog/data-analytics/what-is-a-decision-tree/\n",
    "\n",
    "Hutajulu Oscar, 2019: Basics of Data Processing. Easyread, Available at: https://medium.easyread.co/basics-of-data-preprocessing-71c314bc7188\n",
    "\n",
    "toto_tico, 2017. Stack overflow, Available at: https://stackoverflow.com/questions/25571882/pandas-columns-correlation-with-statistical-significance\n",
    "\n",
    "Zendejas-Heredia Patsy, 2021. National Library of Medicine, Available at: https://www.ncbi.nlm.nih.gov/pmc/articles/PMC8153506/"
   ]
  },
  {
   "cell_type": "markdown",
   "id": "3f5f3100",
   "metadata": {},
   "source": [
    "_______________________________________________________________________________"
   ]
  }
 ],
 "metadata": {
  "kernelspec": {
   "display_name": "Python 3 (ipykernel)",
   "language": "python",
   "name": "python3"
  },
  "language_info": {
   "codemirror_mode": {
    "name": "ipython",
    "version": 3
   },
   "file_extension": ".py",
   "mimetype": "text/x-python",
   "name": "python",
   "nbconvert_exporter": "python",
   "pygments_lexer": "ipython3",
   "version": "3.9.12"
  }
 },
 "nbformat": 4,
 "nbformat_minor": 5
}
